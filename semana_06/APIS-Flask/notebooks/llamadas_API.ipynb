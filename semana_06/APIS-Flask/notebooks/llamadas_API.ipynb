{
 "cells": [
  {
   "cell_type": "markdown",
   "metadata": {},
   "source": [
    "# CREAMOS APIs CON PYTHON"
   ]
  },
  {
   "cell_type": "markdown",
   "metadata": {},
   "source": [
    "![cover](../images/cover.jpg)"
   ]
  },
  {
   "cell_type": "markdown",
   "metadata": {
    "toc": true
   },
   "source": [
    "<h1>Table of Contents<span class=\"tocSkip\"></span></h1>\n",
    "<div class=\"toc\"><ul class=\"toc-item\"><li><ul class=\"toc-item\"><li><span><a href=\"#Probamos-SLQ-ALCHEMY-desde-jupyter-notebook\" data-toc-modified-id=\"Probamos-SLQ-ALCHEMY-desde-jupyter-notebook-0.1\"><span class=\"toc-item-num\">0.1&nbsp;&nbsp;</span>Probamos SLQ ALCHEMY desde jupyter notebook</a></span></li><li><span><a href=\"#Llamadas-a-nuestra-API-para-OBTENER-datos\" data-toc-modified-id=\"Llamadas-a-nuestra-API-para-OBTENER-datos-0.2\"><span class=\"toc-item-num\">0.2&nbsp;&nbsp;</span>Llamadas a nuestra API para OBTENER datos</a></span><ul class=\"toc-item\"><li><span><a href=\"#Como-siempre,-importamos-los-módulos-necesarios\" data-toc-modified-id=\"Como-siempre,-importamos-los-módulos-necesarios-0.2.1\"><span class=\"toc-item-num\">0.2.1&nbsp;&nbsp;</span>Como siempre, importamos los módulos necesarios</a></span></li><li><span><a href=\"#Query-básica-conociendo-el-endpoint\" data-toc-modified-id=\"Query-básica-conociendo-el-endpoint-0.2.2\"><span class=\"toc-item-num\">0.2.2&nbsp;&nbsp;</span>Query básica conociendo el endpoint</a></span></li></ul></li><li><span><a href=\"#Llamada-a-la-API-para-INTRODUCIR-datos\" data-toc-modified-id=\"Llamada-a-la-API-para-INTRODUCIR-datos-0.3\"><span class=\"toc-item-num\">0.3&nbsp;&nbsp;</span>Llamada a la API para INTRODUCIR datos</a></span></li></ul></li><li><span><a href=\"#Los-introducimos-con-la-API-conectada-a-SQL-😖\" data-toc-modified-id=\"Los-introducimos-con-la-API-conectada-a-SQL-😖-1\"><span class=\"toc-item-num\">1&nbsp;&nbsp;</span>Los introducimos con la API conectada a SQL 😖</a></span></li><li><span><a href=\"#Flujo-del-proyecto-y-estructura-del-repositorio\" data-toc-modified-id=\"Flujo-del-proyecto-y-estructura-del-repositorio-2\"><span class=\"toc-item-num\">2&nbsp;&nbsp;</span>Flujo del proyecto y estructura del repositorio</a></span></li></ul></div>"
   ]
  },
  {
   "cell_type": "code",
   "execution_count": null,
   "metadata": {},
   "outputs": [],
   "source": [
    "import requests"
   ]
  },
  {
   "cell_type": "code",
   "execution_count": null,
   "metadata": {},
   "outputs": [],
   "source": []
  },
  {
   "cell_type": "code",
   "execution_count": null,
   "metadata": {},
   "outputs": [],
   "source": []
  },
  {
   "cell_type": "code",
   "execution_count": null,
   "metadata": {},
   "outputs": [],
   "source": []
  },
  {
   "cell_type": "code",
   "execution_count": null,
   "metadata": {},
   "outputs": [],
   "source": []
  },
  {
   "cell_type": "code",
   "execution_count": null,
   "metadata": {},
   "outputs": [],
   "source": []
  },
  {
   "cell_type": "code",
   "execution_count": null,
   "metadata": {},
   "outputs": [],
   "source": []
  },
  {
   "cell_type": "code",
   "execution_count": null,
   "metadata": {},
   "outputs": [],
   "source": []
  },
  {
   "cell_type": "markdown",
   "metadata": {},
   "source": [
    "### Probamos SLQ ALCHEMY desde jupyter notebook"
   ]
  },
  {
   "cell_type": "code",
   "execution_count": null,
   "metadata": {},
   "outputs": [],
   "source": []
  },
  {
   "cell_type": "code",
   "execution_count": null,
   "metadata": {},
   "outputs": [],
   "source": []
  },
  {
   "cell_type": "code",
   "execution_count": null,
   "metadata": {},
   "outputs": [],
   "source": []
  },
  {
   "cell_type": "code",
   "execution_count": null,
   "metadata": {},
   "outputs": [],
   "source": []
  },
  {
   "cell_type": "markdown",
   "metadata": {},
   "source": [
    "### Llamadas a nuestra API para OBTENER datos"
   ]
  },
  {
   "cell_type": "markdown",
   "metadata": {},
   "source": [
    "#### Como siempre, importamos los módulos necesarios"
   ]
  },
  {
   "cell_type": "code",
   "execution_count": null,
   "metadata": {},
   "outputs": [],
   "source": []
  },
  {
   "cell_type": "markdown",
   "metadata": {},
   "source": [
    "#### Query básica conociendo el endpoint"
   ]
  },
  {
   "cell_type": "markdown",
   "metadata": {},
   "source": [
    "Hago llamadas a mi propia api que está corriendo en local, por eso la url es http://localhost...blabla"
   ]
  },
  {
   "cell_type": "code",
   "execution_count": null,
   "metadata": {},
   "outputs": [],
   "source": []
  },
  {
   "cell_type": "code",
   "execution_count": null,
   "metadata": {},
   "outputs": [],
   "source": []
  },
  {
   "cell_type": "code",
   "execution_count": null,
   "metadata": {},
   "outputs": [],
   "source": []
  },
  {
   "cell_type": "markdown",
   "metadata": {},
   "source": [
    "### Llamada a la API para INTRODUCIR datos"
   ]
  },
  {
   "cell_type": "code",
   "execution_count": null,
   "metadata": {},
   "outputs": [],
   "source": []
  },
  {
   "cell_type": "code",
   "execution_count": null,
   "metadata": {},
   "outputs": [],
   "source": []
  },
  {
   "cell_type": "code",
   "execution_count": null,
   "metadata": {},
   "outputs": [],
   "source": []
  },
  {
   "cell_type": "code",
   "execution_count": null,
   "metadata": {},
   "outputs": [],
   "source": []
  },
  {
   "cell_type": "code",
   "execution_count": null,
   "metadata": {},
   "outputs": [],
   "source": []
  },
  {
   "cell_type": "markdown",
   "metadata": {},
   "source": [
    "## Los introducimos con la API conectada a SQL 😖"
   ]
  },
  {
   "cell_type": "code",
   "execution_count": null,
   "metadata": {},
   "outputs": [],
   "source": []
  },
  {
   "cell_type": "code",
   "execution_count": null,
   "metadata": {},
   "outputs": [],
   "source": []
  },
  {
   "cell_type": "markdown",
   "metadata": {},
   "source": [
    "## Flujo del proyecto y estructura del repositorio"
   ]
  },
  {
   "cell_type": "markdown",
   "metadata": {},
   "source": []
  }
 ],
 "metadata": {
  "kernelspec": {
   "display_name": "ironhack",
   "language": "python",
   "name": "ironhack"
  },
  "language_info": {
   "codemirror_mode": {
    "name": "ipython",
    "version": 3
   },
   "file_extension": ".py",
   "mimetype": "text/x-python",
   "name": "python",
   "nbconvert_exporter": "python",
   "pygments_lexer": "ipython3",
   "version": "3.8.5"
  },
  "toc": {
   "base_numbering": 1,
   "nav_menu": {},
   "number_sections": true,
   "sideBar": true,
   "skip_h1_title": true,
   "title_cell": "Table of Contents",
   "title_sidebar": "Contents",
   "toc_cell": true,
   "toc_position": {
    "height": "calc(100% - 180px)",
    "left": "10px",
    "top": "150px",
    "width": "288px"
   },
   "toc_section_display": true,
   "toc_window_display": false
  }
 },
 "nbformat": 4,
 "nbformat_minor": 4
}
