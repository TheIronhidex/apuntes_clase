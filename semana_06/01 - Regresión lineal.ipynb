{
 "cells": [
  {
   "cell_type": "markdown",
   "id": "confused-torture",
   "metadata": {},
   "source": [
    "# Regresión lineal"
   ]
  },
  {
   "cell_type": "markdown",
   "id": "professional-wilson",
   "metadata": {},
   "source": [
    "![memesitodeldía](../images/linear.jpeg)"
   ]
  },
  {
   "cell_type": "markdown",
   "id": "greek-chick",
   "metadata": {
    "toc": true
   },
   "source": [
    "<h1>Table of Contents<span class=\"tocSkip\"></span></h1>\n",
    "<div class=\"toc\"><ul class=\"toc-item\"><li><span><a href=\"#Motivación\" data-toc-modified-id=\"Motivación-1\"><span class=\"toc-item-num\">1&nbsp;&nbsp;</span>Motivación</a></span><ul class=\"toc-item\"><li><span><a href=\"#Análisis-exploratorio\" data-toc-modified-id=\"Análisis-exploratorio-1.1\"><span class=\"toc-item-num\">1.1&nbsp;&nbsp;</span>Análisis exploratorio</a></span></li></ul></li><li><span><a href=\"#Simple-linear-regression\" data-toc-modified-id=\"Simple-linear-regression-2\"><span class=\"toc-item-num\">2&nbsp;&nbsp;</span>Simple linear regression</a></span><ul class=\"toc-item\"><li><span><a href=\"#Vamos-a-hacerlo-al-revés\" data-toc-modified-id=\"Vamos-a-hacerlo-al-revés-2.1\"><span class=\"toc-item-num\">2.1&nbsp;&nbsp;</span>Vamos a hacerlo al revés</a></span></li></ul></li><li><span><a href=\"#Generamos-datos-para-explicar-de-forma-&quot;inversa&quot;-a-lo-visto-hace-un-momento\" data-toc-modified-id=\"Generamos-datos-para-explicar-de-forma-&quot;inversa&quot;-a-lo-visto-hace-un-momento-3\"><span class=\"toc-item-num\">3&nbsp;&nbsp;</span>Generamos datos para explicar de forma \"inversa\" a lo visto hace un momento</a></span></li><li><span><a href=\"#Pintamos-la-línea-de-regresión\" data-toc-modified-id=\"Pintamos-la-línea-de-regresión-4\"><span class=\"toc-item-num\">4&nbsp;&nbsp;</span>Pintamos la línea de regresión</a></span></li><li><span><a href=\"#¿Cómo-de-bueno-es-nuestro-modelo?\" data-toc-modified-id=\"¿Cómo-de-bueno-es-nuestro-modelo?-5\"><span class=\"toc-item-num\">5&nbsp;&nbsp;</span>¿Cómo de bueno es nuestro modelo?</a></span></li><li><span><a href=\"#Calculamos-el-R2-del-modelo\" data-toc-modified-id=\"Calculamos-el-R2-del-modelo-6\"><span class=\"toc-item-num\">6&nbsp;&nbsp;</span>Calculamos el R2 del modelo</a></span></li><li><span><a href=\"#Regresión-lineal-con-sklearn\" data-toc-modified-id=\"Regresión-lineal-con-sklearn-7\"><span class=\"toc-item-num\">7&nbsp;&nbsp;</span>Regresión lineal con sklearn</a></span></li><li><span><a href=\"#Regresión-lineal-con-statsmodels\" data-toc-modified-id=\"Regresión-lineal-con-statsmodels-8\"><span class=\"toc-item-num\">8&nbsp;&nbsp;</span>Regresión lineal con statsmodels</a></span></li><li><span><a href=\"#Conceptos-del-OLS\" data-toc-modified-id=\"Conceptos-del-OLS-9\"><span class=\"toc-item-num\">9&nbsp;&nbsp;</span>Conceptos del OLS</a></span></li><li><span><a href=\"#Regresión-lineal-múltiple\" data-toc-modified-id=\"Regresión-lineal-múltiple-10\"><span class=\"toc-item-num\">10&nbsp;&nbsp;</span>Regresión lineal múltiple</a></span></li><li><span><a href=\"#Variables-categóricas\" data-toc-modified-id=\"Variables-categóricas-11\"><span class=\"toc-item-num\">11&nbsp;&nbsp;</span>Variables categóricas</a></span></li><li><span><a href=\"#Extensiones-del-modelo-lineal\" data-toc-modified-id=\"Extensiones-del-modelo-lineal-12\"><span class=\"toc-item-num\">12&nbsp;&nbsp;</span>Extensiones del modelo lineal</a></span><ul class=\"toc-item\"><li><span><a href=\"#Desafiando-la-suposición-aditiva:-la-sinergia\" data-toc-modified-id=\"Desafiando-la-suposición-aditiva:-la-sinergia-12.1\"><span class=\"toc-item-num\">12.1&nbsp;&nbsp;</span>Desafiando la suposición aditiva: la sinergia</a></span></li></ul></li><li><span><a href=\"#Manos-a-la-obra\" data-toc-modified-id=\"Manos-a-la-obra-13\"><span class=\"toc-item-num\">13&nbsp;&nbsp;</span>Manos a la obra</a></span></li><li><span><a href=\"#Selección-de-modelo\" data-toc-modified-id=\"Selección-de-modelo-14\"><span class=\"toc-item-num\">14&nbsp;&nbsp;</span>Selección de modelo</a></span><ul class=\"toc-item\"><li><span><a href=\"#$R^2$-Ajustado\" data-toc-modified-id=\"$R^2$-Ajustado-14.1\"><span class=\"toc-item-num\">14.1&nbsp;&nbsp;</span>$R^2$ Ajustado</a></span></li></ul></li><li><span><a href=\"#Selección-por-pasos\" data-toc-modified-id=\"Selección-por-pasos-15\"><span class=\"toc-item-num\">15&nbsp;&nbsp;</span>Selección por pasos</a></span><ul class=\"toc-item\"><li><span><a href=\"#Best-subset-selection\" data-toc-modified-id=\"Best-subset-selection-15.1\"><span class=\"toc-item-num\">15.1&nbsp;&nbsp;</span>Best subset selection</a></span></li><li><span><a href=\"#Modelo-nulo\" data-toc-modified-id=\"Modelo-nulo-15.2\"><span class=\"toc-item-num\">15.2&nbsp;&nbsp;</span>Modelo nulo</a></span></li><li><span><a href=\"#Forward-stepwise-selection\" data-toc-modified-id=\"Forward-stepwise-selection-15.3\"><span class=\"toc-item-num\">15.3&nbsp;&nbsp;</span>Forward stepwise selection</a></span></li></ul></li><li><span><a href=\"#Problemas-potenciales-en-la-regresión-lineal\" data-toc-modified-id=\"Problemas-potenciales-en-la-regresión-lineal-16\"><span class=\"toc-item-num\">16&nbsp;&nbsp;</span>Problemas potenciales en la regresión lineal</a></span></li><li><span><a href=\"#Resumen\" data-toc-modified-id=\"Resumen-17\"><span class=\"toc-item-num\">17&nbsp;&nbsp;</span>Resumen</a></span></li><li><span><a href=\"#Further-Materials\" data-toc-modified-id=\"Further-Materials-18\"><span class=\"toc-item-num\">18&nbsp;&nbsp;</span>Further Materials</a></span></li></ul></div>"
   ]
  },
  {
   "cell_type": "code",
   "execution_count": 2,
   "id": "0de361d5",
   "metadata": {},
   "outputs": [],
   "source": [
    "#!pip install scikit-learn"
   ]
  },
  {
   "cell_type": "code",
   "execution_count": 60,
   "id": "effective-dispute",
   "metadata": {},
   "outputs": [],
   "source": [
    "#Visualización (el mantra)\n",
    "from matplotlib import pyplot as plt\n",
    "from matplotlib import cm\n",
    "%matplotlib inline\n",
    "%config Inlinebackend.figure_format = 'retina'\n",
    "sns.set_context(\"poster\")\n",
    "sns.set(rc={\"figure.figsize\": (15.,8.)})\n",
    "sns.set_style(\"whitegrid\")\n",
    "\n",
    "import seaborn as sns\n",
    "\n",
    "# Librerías de modelado\n",
    "import statsmodels.formula.api as smf\n",
    "from sklearn.linear_model import LinearRegression\n",
    "\n",
    "import pandas as pd\n",
    "import numpy as np"
   ]
  },
  {
   "cell_type": "markdown",
   "id": "29174c64",
   "metadata": {},
   "source": [
    "## Motivación"
   ]
  },
  {
   "cell_type": "code",
   "execution_count": 61,
   "id": "8e83ee91",
   "metadata": {},
   "outputs": [],
   "source": [
    "data = pd.read_csv(\"../datasets/hours_vs_mark.csv\", index_col=0)"
   ]
  },
  {
   "cell_type": "code",
   "execution_count": 62,
   "id": "12eca1a5",
   "metadata": {},
   "outputs": [
    {
     "data": {
      "text/html": [
       "<div>\n",
       "<style scoped>\n",
       "    .dataframe tbody tr th:only-of-type {\n",
       "        vertical-align: middle;\n",
       "    }\n",
       "\n",
       "    .dataframe tbody tr th {\n",
       "        vertical-align: top;\n",
       "    }\n",
       "\n",
       "    .dataframe thead th {\n",
       "        text-align: right;\n",
       "    }\n",
       "</style>\n",
       "<table border=\"1\" class=\"dataframe\">\n",
       "  <thead>\n",
       "    <tr style=\"text-align: right;\">\n",
       "      <th></th>\n",
       "      <th>hours</th>\n",
       "      <th>mark</th>\n",
       "    </tr>\n",
       "  </thead>\n",
       "  <tbody>\n",
       "    <tr>\n",
       "      <th>0</th>\n",
       "      <td>865</td>\n",
       "      <td>95</td>\n",
       "    </tr>\n",
       "    <tr>\n",
       "      <th>1</th>\n",
       "      <td>4</td>\n",
       "      <td>12</td>\n",
       "    </tr>\n",
       "    <tr>\n",
       "      <th>2</th>\n",
       "      <td>305</td>\n",
       "      <td>35</td>\n",
       "    </tr>\n",
       "    <tr>\n",
       "      <th>3</th>\n",
       "      <td>437</td>\n",
       "      <td>56</td>\n",
       "    </tr>\n",
       "    <tr>\n",
       "      <th>4</th>\n",
       "      <td>682</td>\n",
       "      <td>86</td>\n",
       "    </tr>\n",
       "  </tbody>\n",
       "</table>\n",
       "</div>"
      ],
      "text/plain": [
       "   hours  mark\n",
       "0    865    95\n",
       "1      4    12\n",
       "2    305    35\n",
       "3    437    56\n",
       "4    682    86"
      ]
     },
     "execution_count": 62,
     "metadata": {},
     "output_type": "execute_result"
    }
   ],
   "source": []
  },
  {
   "cell_type": "markdown",
   "id": "c3e9c3d1",
   "metadata": {},
   "source": [
    "Tenemos 100 estudiantes, y sabemos:\n",
    " * Cuántas horas han estudiado para su examen\n",
    " * la nota que han obtenido (de 0 a 100)"
   ]
  },
  {
   "cell_type": "code",
   "execution_count": 63,
   "id": "7ff44191",
   "metadata": {},
   "outputs": [
    {
     "data": {
      "text/plain": [
       "(100, 2)"
      ]
     },
     "execution_count": 63,
     "metadata": {},
     "output_type": "execute_result"
    }
   ],
   "source": []
  },
  {
   "cell_type": "code",
   "execution_count": 64,
   "id": "d885bd9b",
   "metadata": {},
   "outputs": [
    {
     "data": {
      "text/html": [
       "<div>\n",
       "<style scoped>\n",
       "    .dataframe tbody tr th:only-of-type {\n",
       "        vertical-align: middle;\n",
       "    }\n",
       "\n",
       "    .dataframe tbody tr th {\n",
       "        vertical-align: top;\n",
       "    }\n",
       "\n",
       "    .dataframe thead th {\n",
       "        text-align: right;\n",
       "    }\n",
       "</style>\n",
       "<table border=\"1\" class=\"dataframe\">\n",
       "  <thead>\n",
       "    <tr style=\"text-align: right;\">\n",
       "      <th></th>\n",
       "      <th>hours</th>\n",
       "      <th>mark</th>\n",
       "    </tr>\n",
       "  </thead>\n",
       "  <tbody>\n",
       "    <tr>\n",
       "      <th>hours</th>\n",
       "      <td>1.000000</td>\n",
       "      <td>0.867072</td>\n",
       "    </tr>\n",
       "    <tr>\n",
       "      <th>mark</th>\n",
       "      <td>0.867072</td>\n",
       "      <td>1.000000</td>\n",
       "    </tr>\n",
       "  </tbody>\n",
       "</table>\n",
       "</div>"
      ],
      "text/plain": [
       "          hours      mark\n",
       "hours  1.000000  0.867072\n",
       "mark   0.867072  1.000000"
      ]
     },
     "execution_count": 64,
     "metadata": {},
     "output_type": "execute_result"
    }
   ],
   "source": []
  },
  {
   "cell_type": "markdown",
   "id": "19e95421",
   "metadata": {},
   "source": [
    "Nos gustaría entender la relación $$nota = f(horas)$$\n",
    "\n",
    "Para poder **predecir la nota esperada** que obtendremos al estudiar un número determinado de horas"
   ]
  },
  {
   "cell_type": "markdown",
   "id": "9e2e35ee",
   "metadata": {},
   "source": [
    "### Análisis exploratorio"
   ]
  },
  {
   "cell_type": "code",
   "execution_count": 65,
   "id": "f79c7e7a",
   "metadata": {},
   "outputs": [
    {
     "data": {
      "text/plain": [
       "<AxesSubplot:xlabel='hours', ylabel='Count'>"
      ]
     },
     "execution_count": 65,
     "metadata": {},
     "output_type": "execute_result"
    },
    {
     "data": {
      "image/png": "[encoded data removed]",
      "text/plain": [
       "<Figure size 1080x576 with 1 Axes>"
      ]
     },
     "metadata": {},
     "output_type": "display_data"
    }
   ],
   "source": []
  },
  {
   "cell_type": "code",
   "execution_count": 66,
   "id": "e30cd815",
   "metadata": {},
   "outputs": [
    {
     "data": {
      "text/plain": [
       "<AxesSubplot:xlabel='mark', ylabel='Count'>"
      ]
     },
     "execution_count": 66,
     "metadata": {},
     "output_type": "execute_result"
    },
    {
     "data": {
      "image/png": "[encoded data removed]",
      "text/plain": [
       "<Figure size 1080x576 with 1 Axes>"
      ]
     },
     "metadata": {},
     "output_type": "display_data"
    }
   ],
   "source": []
  },
  {
   "cell_type": "code",
   "execution_count": 67,
   "id": "090054de",
   "metadata": {},
   "outputs": [
    {
     "data": {
      "text/plain": [
       "<AxesSubplot:xlabel='hours', ylabel='mark'>"
      ]
     },
     "execution_count": 67,
     "metadata": {},
     "output_type": "execute_result"
    },
    {
     "data": {
      "image/png": "[encoded data removed]",
      "text/plain": [
       "<Figure size 1080x576 with 1 Axes>"
      ]
     },
     "metadata": {},
     "output_type": "display_data"
    }
   ],
   "source": []
  },
  {
   "cell_type": "markdown",
   "id": "1dc5cb65",
   "metadata": {},
   "source": [
    "Probemos una regresión lineal $$Y = m * X + n$$\n",
    "$m$ es la pendiente  \n",
    "$n$ es el valor de $Y$ cuando $X=0$          \n",
    "Y tenemos que:\n",
    "$$nota = m * horas + n$$\n",
    "Queremos encontrar $m$ y $n$ que modelen *mejor* nuestros datos\n",
    "**Se abren las apuestas** ¿Qué decís?\n",
    "![ungif](https://media.giphy.com/media/jp8T4jSnc93WH61SvT/giphy.gif)"
   ]
  },
  {
   "cell_type": "code",
   "execution_count": 68,
   "id": "1dd2cc40",
   "metadata": {},
   "outputs": [],
   "source": []
  },
  {
   "cell_type": "code",
   "execution_count": 69,
   "id": "28b8af17",
   "metadata": {},
   "outputs": [
    {
     "data": {
      "text/html": [
       "<div>\n",
       "<style scoped>\n",
       "    .dataframe tbody tr th:only-of-type {\n",
       "        vertical-align: middle;\n",
       "    }\n",
       "\n",
       "    .dataframe tbody tr th {\n",
       "        vertical-align: top;\n",
       "    }\n",
       "\n",
       "    .dataframe thead th {\n",
       "        text-align: right;\n",
       "    }\n",
       "</style>\n",
       "<table border=\"1\" class=\"dataframe\">\n",
       "  <thead>\n",
       "    <tr style=\"text-align: right;\">\n",
       "      <th></th>\n",
       "      <th>hours</th>\n",
       "      <th>mark</th>\n",
       "      <th>predicción</th>\n",
       "      <th>predicción_2</th>\n",
       "    </tr>\n",
       "  </thead>\n",
       "  <tbody>\n",
       "    <tr>\n",
       "      <th>0</th>\n",
       "      <td>865</td>\n",
       "      <td>95</td>\n",
       "      <td>83.525</td>\n",
       "      <td>118.80</td>\n",
       "    </tr>\n",
       "    <tr>\n",
       "      <th>1</th>\n",
       "      <td>4</td>\n",
       "      <td>12</td>\n",
       "      <td>10.340</td>\n",
       "      <td>15.48</td>\n",
       "    </tr>\n",
       "    <tr>\n",
       "      <th>2</th>\n",
       "      <td>305</td>\n",
       "      <td>35</td>\n",
       "      <td>35.925</td>\n",
       "      <td>51.60</td>\n",
       "    </tr>\n",
       "    <tr>\n",
       "      <th>3</th>\n",
       "      <td>437</td>\n",
       "      <td>56</td>\n",
       "      <td>47.145</td>\n",
       "      <td>67.44</td>\n",
       "    </tr>\n",
       "    <tr>\n",
       "      <th>4</th>\n",
       "      <td>682</td>\n",
       "      <td>86</td>\n",
       "      <td>67.970</td>\n",
       "      <td>96.84</td>\n",
       "    </tr>\n",
       "  </tbody>\n",
       "</table>\n",
       "</div>"
      ],
      "text/plain": [
       "   hours  mark  predicción  predicción_2\n",
       "0    865    95      83.525        118.80\n",
       "1      4    12      10.340         15.48\n",
       "2    305    35      35.925         51.60\n",
       "3    437    56      47.145         67.44\n",
       "4    682    86      67.970         96.84"
      ]
     },
     "execution_count": 69,
     "metadata": {},
     "output_type": "execute_result"
    }
   ],
   "source": []
  },
  {
   "cell_type": "markdown",
   "id": "30efd37d",
   "metadata": {},
   "source": [
    "¿Cuál ha funcionado mejor? ¿Cómo podemos medir el error de los modelos?       \n",
    "Podemos restar nuestra predicción a la nota para ver en qué nos hemos equivocado en cada uno y hacer la media.... utilizamos el valor absoluto para quitarnos los valores negativos y después hablamos de este error, que tiene un nombre y es MAE (mean absolute error)\n"
   ]
  },
  {
   "cell_type": "code",
   "execution_count": 70,
   "id": "ca2d3b2a",
   "metadata": {},
   "outputs": [],
   "source": []
  },
  {
   "cell_type": "code",
   "execution_count": 71,
   "id": "54e46851",
   "metadata": {},
   "outputs": [
    {
     "data": {
      "text/plain": [
       "11.4882"
      ]
     },
     "execution_count": 71,
     "metadata": {},
     "output_type": "execute_result"
    }
   ],
   "source": []
  },
  {
   "cell_type": "code",
   "execution_count": 72,
   "id": "6c99513c",
   "metadata": {},
   "outputs": [
    {
     "data": {
      "text/plain": [
       "21.226399999999995"
      ]
     },
     "execution_count": 72,
     "metadata": {},
     "output_type": "execute_result"
    }
   ],
   "source": []
  },
  {
   "cell_type": "code",
   "execution_count": 73,
   "id": "a292dcf1",
   "metadata": {},
   "outputs": [
    {
     "data": {
      "image/png": "[encoded data removed]",
      "text/plain": [
       "<Figure size 1080x576 with 1 Axes>"
      ]
     },
     "metadata": {},
     "output_type": "display_data"
    }
   ],
   "source": []
  },
  {
   "cell_type": "markdown",
   "id": "9d7bafa9",
   "metadata": {},
   "source": [
    "¿Cuál va a ser nuestro objetivo? Que python y sus librerías hagan esto por nosotras, que calculen la pendiente y el intercept para poder hacer \"predicciones\" de datos desconocidos a partir de datos que ya tenemos."
   ]
  },
  {
   "cell_type": "markdown",
   "id": "desirable-therapy",
   "metadata": {},
   "source": [
    "## Simple linear regression\n",
    "\n",
    "Regresión lineal simple un modelo estadístico que supone una relación lineal entre un predictor y una variable objetivo. Matemáticamente, se puede expresar como:"
   ]
  },
  {
   "cell_type": "markdown",
   "id": "trying-monthly",
   "metadata": {},
   "source": [
    "![formula](../images/formula.png)"
   ]
  },
  {
   "cell_type": "markdown",
   "id": "verbal-living",
   "metadata": {},
   "source": [
    "Si profundizamos un poco más, podemos encontrar esta otra expresión:\n",
    "\n",
    " $$ Y = \\beta_0 +  \\beta_1 X + \\epsilon$$\n",
    "\n",
    "Donde:\n",
    " * $X$ = variable predictora\n",
    " * $Y$ = variable objetivo\n",
    " * $\\beta_0$ = intercept\n",
    " * $\\beta_1$ = pendiente / slope\n",
    " * $\\epsilon$ = ruido (gaussiano)\n",
    "\n",
    "\n",
    "La ecuación anterior se conoce como *línea de regresión poblacional*.\n",
    "La línea de regresión lineal simple suele tener la forma que se muestra en la fórmula anterior, donde β0 y β1 son constantes desconocidas, que representan el intercepto y la pendiente de la línea de regresión, respectivamente.\n",
    "\n",
    "El intercepto es el valor de la variable dependiente (Y) cuando la variable independiente (X) tiene un valor de cero (0). La pendiente es una medida de la velocidad a la que cambia la variable dependiente (Y) cuando la variable independiente (X) cambia en uno (1). Las constantes desconocidas se denominan coeficientes o parámetros del modelo. Esta forma de la línea de regresión se conoce a veces como línea de regresión poblacional y, como modelo probabilístico, se ajusta al conjunto de datos de forma aproximada de ahí el uso del símbolo (≈) en la imagen. El modelo se denomina probabilístico porque no modela toda la variabilidad de la variable dependiente (Y) : El modelo se llama probabilístico porque no modela toda la variabilidad de la variable dependiente (Y)"
   ]
  },
  {
   "cell_type": "markdown",
   "id": "11a1804d",
   "metadata": {},
   "source": [
    "###  Vamos a hacerlo al revés\n",
    "![upsidedown](https://media.giphy.com/media/q2liPHzYo82zK9Tb0X/giphy.gif)"
   ]
  },
  {
   "cell_type": "markdown",
   "id": "impossible-height",
   "metadata": {},
   "source": [
    "## Generamos datos para explicar de forma \"inversa\" a lo visto hace un momento"
   ]
  },
  {
   "cell_type": "code",
   "execution_count": 74,
   "id": "imperial-gauge",
   "metadata": {},
   "outputs": [],
   "source": [
    "# Del ejemplo de hace un ratito"
   ]
  },
  {
   "cell_type": "markdown",
   "id": "continent-impression",
   "metadata": {},
   "source": [
    "Documentación de np.random normal --> https://numpy.org/doc/stable/reference/random/generated/numpy.random.normal.html    \n",
    "Parámetros : \n",
    "- Media\n",
    "- Desviación estándar\n",
    "- Tamaño de la muestra"
   ]
  },
  {
   "cell_type": "code",
   "execution_count": 75,
   "id": "continued-jacksonville",
   "metadata": {},
   "outputs": [],
   "source": [
    "# Generamos las horas de estudio\n"
   ]
  },
  {
   "cell_type": "markdown",
   "id": "atomic-optimum",
   "metadata": {},
   "source": [
    "A la hora de generar las notas metemos ese np.random.normal que va a ser un número aleatorio para cada nota que va a hacer que la nota varie. Es un error aleatorio. Lo ponemos porque nos estamos inventando los datos y si lo hacemos simplemente a través de la fórmula de una recta, evidentemente, tendremos unos datos que se ajusten a una regresión A LA PERFECCIÓN y eso no es real."
   ]
  },
  {
   "cell_type": "code",
   "execution_count": 76,
   "id": "classified-visibility",
   "metadata": {},
   "outputs": [],
   "source": [
    "# Generamos las notas"
   ]
  },
  {
   "cell_type": "code",
   "execution_count": 77,
   "id": "british-absolute",
   "metadata": {},
   "outputs": [],
   "source": [
    "# Generamos el dataframe"
   ]
  },
  {
   "cell_type": "code",
   "execution_count": 78,
   "id": "accomplished-industry",
   "metadata": {},
   "outputs": [
    {
     "data": {
      "text/html": [
       "<div>\n",
       "<style scoped>\n",
       "    .dataframe tbody tr th:only-of-type {\n",
       "        vertical-align: middle;\n",
       "    }\n",
       "\n",
       "    .dataframe tbody tr th {\n",
       "        vertical-align: top;\n",
       "    }\n",
       "\n",
       "    .dataframe thead th {\n",
       "        text-align: right;\n",
       "    }\n",
       "</style>\n",
       "<table border=\"1\" class=\"dataframe\">\n",
       "  <thead>\n",
       "    <tr style=\"text-align: right;\">\n",
       "      <th></th>\n",
       "      <th>horas</th>\n",
       "      <th>nota</th>\n",
       "    </tr>\n",
       "  </thead>\n",
       "  <tbody>\n",
       "    <tr>\n",
       "      <th>0</th>\n",
       "      <td>384</td>\n",
       "      <td>49</td>\n",
       "    </tr>\n",
       "    <tr>\n",
       "      <th>1</th>\n",
       "      <td>582</td>\n",
       "      <td>51</td>\n",
       "    </tr>\n",
       "    <tr>\n",
       "      <th>2</th>\n",
       "      <td>639</td>\n",
       "      <td>65</td>\n",
       "    </tr>\n",
       "    <tr>\n",
       "      <th>3</th>\n",
       "      <td>489</td>\n",
       "      <td>49</td>\n",
       "    </tr>\n",
       "    <tr>\n",
       "      <th>4</th>\n",
       "      <td>582</td>\n",
       "      <td>49</td>\n",
       "    </tr>\n",
       "  </tbody>\n",
       "</table>\n",
       "</div>"
      ],
      "text/plain": [
       "   horas  nota\n",
       "0    384    49\n",
       "1    582    51\n",
       "2    639    65\n",
       "3    489    49\n",
       "4    582    49"
      ]
     },
     "execution_count": 78,
     "metadata": {},
     "output_type": "execute_result"
    }
   ],
   "source": []
  },
  {
   "cell_type": "markdown",
   "id": "wanted-lodging",
   "metadata": {},
   "source": [
    "## Pintamos la línea de regresión"
   ]
  },
  {
   "cell_type": "code",
   "execution_count": 79,
   "id": "dramatic-simulation",
   "metadata": {},
   "outputs": [
    {
     "data": {
      "text/plain": [
       "<AxesSubplot:xlabel='horas', ylabel='nota'>"
      ]
     },
     "execution_count": 79,
     "metadata": {},
     "output_type": "execute_result"
    },
    {
     "data": {
      "image/png": "[encoded data removed]",
      "text/plain": [
       "<Figure size 1080x576 with 1 Axes>"
      ]
     },
     "metadata": {},
     "output_type": "display_data"
    }
   ],
   "source": []
  },
  {
   "cell_type": "code",
   "execution_count": 80,
   "id": "seasonal-renewal",
   "metadata": {},
   "outputs": [],
   "source": [
    "### Pintamos un ejemplo de los datos SIN ERROR ALEATORIO"
   ]
  },
  {
   "cell_type": "code",
   "execution_count": 81,
   "id": "advanced-lodge",
   "metadata": {},
   "outputs": [],
   "source": [
    "# Generamos las horas de estudio\n",
    "\n",
    "# la y es simplemente la ecuación de la recta y es la nota que sacas\n"
   ]
  },
  {
   "cell_type": "code",
   "execution_count": 82,
   "id": "included-conducting",
   "metadata": {},
   "outputs": [],
   "source": []
  },
  {
   "cell_type": "code",
   "execution_count": 83,
   "id": "heated-rhythm",
   "metadata": {},
   "outputs": [
    {
     "data": {
      "text/plain": [
       "<AxesSubplot:xlabel='horas', ylabel='nota'>"
      ]
     },
     "execution_count": 83,
     "metadata": {},
     "output_type": "execute_result"
    },
    {
     "data": {
      "image/png": "[encoded data removed]",
      "text/plain": [
       "<Figure size 1080x576 with 1 Axes>"
      ]
     },
     "metadata": {},
     "output_type": "display_data"
    }
   ],
   "source": []
  },
  {
   "cell_type": "markdown",
   "id": "acceptable-mandate",
   "metadata": {},
   "source": [
    "Por supuesto, en la vida real no conocemos los verdaderos parámetros del modelo, ¡¡¡ni si el modelo es real!!! Hoy vamos a aprender una [valiosa lección](https://en.wikipedia.org/wiki/All_models_are_wrong):\n",
    "\n",
    "\n",
    "\n",
    "<center> <b>\"Todos los modelos son erróneos, pero algunos son útiles\"</b> </center>\n",
    "\n",
    "\n",
    "En la práctica lo que hacemos es, tras ver un gráfico de dispersión como el de arriba, intentar inferir los parámetros del modelo $\\beta_0$ y la pendiente, $\\beta_1$.  Una vez estimados, el ajuste estimado se convierte en $$ \\hat{Y} = \\hat{beta_0} + \\hat{beta_1} X$$"
   ]
  },
  {
   "cell_type": "code",
   "execution_count": 84,
   "id": "thermal-arrest",
   "metadata": {},
   "outputs": [],
   "source": []
  },
  {
   "cell_type": "markdown",
   "id": "sorted-pride",
   "metadata": {},
   "source": [
    "Vamos a entrenar un modelo de regresión que saque los coeficientes con sklearn y lo hacemos con el primer modelo que hemos generado que llevaba RUIDO/ERROR"
   ]
  },
  {
   "cell_type": "code",
   "execution_count": 85,
   "id": "changing-paragraph",
   "metadata": {},
   "outputs": [
    {
     "data": {
      "text/plain": [
       "LinearRegression()"
      ]
     },
     "execution_count": 85,
     "metadata": {},
     "output_type": "execute_result"
    }
   ],
   "source": []
  },
  {
   "cell_type": "markdown",
   "id": "activated-lotus",
   "metadata": {},
   "source": [
    "Reminder para la vida sintaxis de un modelo de ML\n",
    "\n",
    "```python\n",
    "SINTAXIS = MODELO.FIT (X,y)\n",
    "```"
   ]
  },
  {
   "cell_type": "code",
   "execution_count": 86,
   "id": "sticky-african",
   "metadata": {},
   "outputs": [],
   "source": []
  },
  {
   "cell_type": "code",
   "execution_count": 87,
   "id": "coordinated-headquarters",
   "metadata": {},
   "outputs": [
    {
     "name": "stdout",
     "output_type": "stream",
     "text": [
      "beta_1\n",
      "0.07646749156604078\n",
      "beta_0\n",
      "12.237824353943623\n"
     ]
    }
   ],
   "source": []
  },
  {
   "cell_type": "code",
   "execution_count": 88,
   "id": "ideal-confirmation",
   "metadata": {},
   "outputs": [
    {
     "data": {
      "text/plain": [
       "LinearRegression()"
      ]
     },
     "execution_count": 88,
     "metadata": {},
     "output_type": "execute_result"
    }
   ],
   "source": []
  },
  {
   "cell_type": "code",
   "execution_count": 89,
   "id": "figured-helena",
   "metadata": {},
   "outputs": [],
   "source": [
    "# Ahora lo hacemos con los datos QUE NO LLEVAN RUIDO"
   ]
  },
  {
   "cell_type": "code",
   "execution_count": 90,
   "id": "color-withdrawal",
   "metadata": {},
   "outputs": [],
   "source": []
  },
  {
   "cell_type": "code",
   "execution_count": 91,
   "id": "graphic-attitude",
   "metadata": {},
   "outputs": [
    {
     "name": "stdout",
     "output_type": "stream",
     "text": [
      "beta_1\n",
      "0.08012172091996915\n",
      "beta_0\n",
      "9.892444552875325\n"
     ]
    }
   ],
   "source": []
  },
  {
   "cell_type": "code",
   "execution_count": 92,
   "id": "random-bottom",
   "metadata": {},
   "outputs": [
    {
     "data": {
      "text/plain": [
       "<function matplotlib.pyplot.show(close=None, block=None)>"
      ]
     },
     "execution_count": 92,
     "metadata": {},
     "output_type": "execute_result"
    },
    {
     "data": {
      "image/png": "[encoded data removed]",
      "text/plain": [
       "<Figure size 1080x576 with 1 Axes>"
      ]
     },
     "metadata": {},
     "output_type": "display_data"
    }
   ],
   "source": []
  },
  {
   "cell_type": "markdown",
   "id": "aboriginal-anger",
   "metadata": {},
   "source": [
    "## ¿Cómo de bueno es nuestro modelo?"
   ]
  },
  {
   "cell_type": "markdown",
   "id": "handmade-church",
   "metadata": {},
   "source": [
    "La diferencia numérica entre la *línea de regresión de mínimos cuadrados* y el valor real se llama *residuo* , y representa el error en la estimación: $e = y_i - \\hat{y}$.     \n",
    "La línea de regresión minimizó la **Suma de cuadrados residual** (RSS) \n",
    "La suma residual de cuadrados mide la cantidad de error restante entre la función de regresión y el conjunto de datos. una suma de cuadrados residual más pequeña representa una función de regresión. La suma de cuadrados residuales, también conocida como la suma de los residuos al cuadrado, determina esencialmente qué tan bien un modelo de regresión explica o representa los datos en el modelo.\n",
    "\n",
    "$$RSS = e_1^2 + e_2^2 + \\dots + e_n ^2$$"
   ]
  },
  {
   "cell_type": "markdown",
   "id": "given-luther",
   "metadata": {},
   "source": [
    "Si sólo utilizáramos la media como valor predicho para cada predicción, el error que cometeríamos es (**suma total de cuadrados**)\n",
    "\n",
    "$$TTS=\\Sigma(y_i - \\bar{y}_i)^2$$\n",
    "Consideremos esto nuestro punto de partida, hagamos una predicción y la ploteamos"
   ]
  },
  {
   "cell_type": "code",
   "execution_count": null,
   "id": "accredited-vacation",
   "metadata": {},
   "outputs": [],
   "source": [
    "# Vamos a meterlo en un dataframe para verlo más claro"
   ]
  },
  {
   "cell_type": "code",
   "execution_count": 97,
   "id": "romantic-objective",
   "metadata": {},
   "outputs": [
    {
     "data": {
      "text/html": [
       "<div>\n",
       "<style scoped>\n",
       "    .dataframe tbody tr th:only-of-type {\n",
       "        vertical-align: middle;\n",
       "    }\n",
       "\n",
       "    .dataframe tbody tr th {\n",
       "        vertical-align: top;\n",
       "    }\n",
       "\n",
       "    .dataframe thead th {\n",
       "        text-align: right;\n",
       "    }\n",
       "</style>\n",
       "<table border=\"1\" class=\"dataframe\">\n",
       "  <thead>\n",
       "    <tr style=\"text-align: right;\">\n",
       "      <th></th>\n",
       "      <th>horas</th>\n",
       "      <th>nota</th>\n",
       "      <th>media</th>\n",
       "      <th>mean_predict</th>\n",
       "    </tr>\n",
       "  </thead>\n",
       "  <tbody>\n",
       "    <tr>\n",
       "      <th>0</th>\n",
       "      <td>384</td>\n",
       "      <td>49</td>\n",
       "      <td>58.74</td>\n",
       "      <td>58.74</td>\n",
       "    </tr>\n",
       "    <tr>\n",
       "      <th>1</th>\n",
       "      <td>582</td>\n",
       "      <td>51</td>\n",
       "      <td>58.74</td>\n",
       "      <td>58.74</td>\n",
       "    </tr>\n",
       "    <tr>\n",
       "      <th>2</th>\n",
       "      <td>639</td>\n",
       "      <td>65</td>\n",
       "      <td>58.74</td>\n",
       "      <td>58.74</td>\n",
       "    </tr>\n",
       "    <tr>\n",
       "      <th>3</th>\n",
       "      <td>489</td>\n",
       "      <td>49</td>\n",
       "      <td>58.74</td>\n",
       "      <td>58.74</td>\n",
       "    </tr>\n",
       "    <tr>\n",
       "      <th>4</th>\n",
       "      <td>582</td>\n",
       "      <td>49</td>\n",
       "      <td>58.74</td>\n",
       "      <td>58.74</td>\n",
       "    </tr>\n",
       "  </tbody>\n",
       "</table>\n",
       "</div>"
      ],
      "text/plain": [
       "   horas  nota  media  mean_predict\n",
       "0    384    49  58.74         58.74\n",
       "1    582    51  58.74         58.74\n",
       "2    639    65  58.74         58.74\n",
       "3    489    49  58.74         58.74\n",
       "4    582    49  58.74         58.74"
      ]
     },
     "execution_count": 97,
     "metadata": {},
     "output_type": "execute_result"
    }
   ],
   "source": []
  },
  {
   "cell_type": "code",
   "execution_count": 98,
   "id": "fewer-massage",
   "metadata": {},
   "outputs": [
    {
     "data": {
      "image/png": "[encoded data removed]",
      "text/plain": [
       "<Figure size 1080x576 with 1 Axes>"
      ]
     },
     "metadata": {},
     "output_type": "display_data"
    }
   ],
   "source": []
  },
  {
   "cell_type": "code",
   "execution_count": 99,
   "id": "dietary-boxing",
   "metadata": {},
   "outputs": [
    {
     "data": {
      "text/plain": [
       "15735.240000000003"
      ]
     },
     "execution_count": 99,
     "metadata": {},
     "output_type": "execute_result"
    }
   ],
   "source": [
    "# Calculamos TSS para el modelo anterior"
   ]
  },
  {
   "cell_type": "markdown",
   "id": "polished-roulette",
   "metadata": {},
   "source": [
    "Recordemos que los coeficientes de la regresión lineal minimizan el $RSS=Sigma(y_i - \\hat{y_i})^2$, es decir, la cantidad de variabilidad que queda sin explicar después de realizar la regresión. El [coeficiente de determinación](https://en.wikipedia.org/wiki/Coefficient_of_determination):\n",
    "\n",
    "$$R^2 = \\frac{TSS -RSS}{TSS} = 1-\\frac{RSS}{TSS}$$\n",
    "\n",
    "mide la \"*proporción de variabilidad en Y que puede explicarse mediante X*\". Es una medida de la relación lineal que existe entre $X$ e $y$.\n",
    "\n",
    "**Nota:** en el caso de la regresión lineal simple, el coeficiente $R^2$ no es más que el cuadrado del coeficiente de correlación de *Pearson* que ya conocemos. "
   ]
  },
  {
   "cell_type": "markdown",
   "id": "liked-namibia",
   "metadata": {},
   "source": [
    "## Calculamos el R2 del modelo"
   ]
  },
  {
   "cell_type": "code",
   "execution_count": 100,
   "id": "alone-premiere",
   "metadata": {},
   "outputs": [
    {
     "data": {
      "text/html": [
       "<div>\n",
       "<style scoped>\n",
       "    .dataframe tbody tr th:only-of-type {\n",
       "        vertical-align: middle;\n",
       "    }\n",
       "\n",
       "    .dataframe tbody tr th {\n",
       "        vertical-align: top;\n",
       "    }\n",
       "\n",
       "    .dataframe thead th {\n",
       "        text-align: right;\n",
       "    }\n",
       "</style>\n",
       "<table border=\"1\" class=\"dataframe\">\n",
       "  <thead>\n",
       "    <tr style=\"text-align: right;\">\n",
       "      <th></th>\n",
       "      <th>horas</th>\n",
       "      <th>nota</th>\n",
       "      <th>media</th>\n",
       "      <th>mean_predict</th>\n",
       "    </tr>\n",
       "  </thead>\n",
       "  <tbody>\n",
       "    <tr>\n",
       "      <th>0</th>\n",
       "      <td>384</td>\n",
       "      <td>49</td>\n",
       "      <td>58.74</td>\n",
       "      <td>58.74</td>\n",
       "    </tr>\n",
       "    <tr>\n",
       "      <th>1</th>\n",
       "      <td>582</td>\n",
       "      <td>51</td>\n",
       "      <td>58.74</td>\n",
       "      <td>58.74</td>\n",
       "    </tr>\n",
       "    <tr>\n",
       "      <th>2</th>\n",
       "      <td>639</td>\n",
       "      <td>65</td>\n",
       "      <td>58.74</td>\n",
       "      <td>58.74</td>\n",
       "    </tr>\n",
       "    <tr>\n",
       "      <th>3</th>\n",
       "      <td>489</td>\n",
       "      <td>49</td>\n",
       "      <td>58.74</td>\n",
       "      <td>58.74</td>\n",
       "    </tr>\n",
       "    <tr>\n",
       "      <th>4</th>\n",
       "      <td>582</td>\n",
       "      <td>49</td>\n",
       "      <td>58.74</td>\n",
       "      <td>58.74</td>\n",
       "    </tr>\n",
       "  </tbody>\n",
       "</table>\n",
       "</div>"
      ],
      "text/plain": [
       "   horas  nota  media  mean_predict\n",
       "0    384    49  58.74         58.74\n",
       "1    582    51  58.74         58.74\n",
       "2    639    65  58.74         58.74\n",
       "3    489    49  58.74         58.74\n",
       "4    582    49  58.74         58.74"
      ]
     },
     "execution_count": 100,
     "metadata": {},
     "output_type": "execute_result"
    }
   ],
   "source": []
  },
  {
   "cell_type": "code",
   "execution_count": 102,
   "id": "adjustable-rogers",
   "metadata": {},
   "outputs": [
    {
     "data": {
      "text/html": [
       "<div>\n",
       "<style scoped>\n",
       "    .dataframe tbody tr th:only-of-type {\n",
       "        vertical-align: middle;\n",
       "    }\n",
       "\n",
       "    .dataframe tbody tr th {\n",
       "        vertical-align: top;\n",
       "    }\n",
       "\n",
       "    .dataframe thead th {\n",
       "        text-align: right;\n",
       "    }\n",
       "</style>\n",
       "<table border=\"1\" class=\"dataframe\">\n",
       "  <thead>\n",
       "    <tr style=\"text-align: right;\">\n",
       "      <th></th>\n",
       "      <th>horas</th>\n",
       "      <th>nota</th>\n",
       "      <th>media</th>\n",
       "      <th>mean_predict</th>\n",
       "      <th>predigo</th>\n",
       "      <th>predict</th>\n",
       "    </tr>\n",
       "  </thead>\n",
       "  <tbody>\n",
       "    <tr>\n",
       "      <th>0</th>\n",
       "      <td>384</td>\n",
       "      <td>49</td>\n",
       "      <td>58.74</td>\n",
       "      <td>58.74</td>\n",
       "      <td>41.601341</td>\n",
       "      <td>41.601341</td>\n",
       "    </tr>\n",
       "    <tr>\n",
       "      <th>1</th>\n",
       "      <td>582</td>\n",
       "      <td>51</td>\n",
       "      <td>58.74</td>\n",
       "      <td>58.74</td>\n",
       "      <td>56.741904</td>\n",
       "      <td>56.741904</td>\n",
       "    </tr>\n",
       "    <tr>\n",
       "      <th>2</th>\n",
       "      <td>639</td>\n",
       "      <td>65</td>\n",
       "      <td>58.74</td>\n",
       "      <td>58.74</td>\n",
       "      <td>61.100551</td>\n",
       "      <td>61.100551</td>\n",
       "    </tr>\n",
       "    <tr>\n",
       "      <th>3</th>\n",
       "      <td>489</td>\n",
       "      <td>49</td>\n",
       "      <td>58.74</td>\n",
       "      <td>58.74</td>\n",
       "      <td>49.630428</td>\n",
       "      <td>49.630428</td>\n",
       "    </tr>\n",
       "    <tr>\n",
       "      <th>4</th>\n",
       "      <td>582</td>\n",
       "      <td>49</td>\n",
       "      <td>58.74</td>\n",
       "      <td>58.74</td>\n",
       "      <td>56.741904</td>\n",
       "      <td>56.741904</td>\n",
       "    </tr>\n",
       "  </tbody>\n",
       "</table>\n",
       "</div>"
      ],
      "text/plain": [
       "   horas  nota  media  mean_predict    predigo    predict\n",
       "0    384    49  58.74         58.74  41.601341  41.601341\n",
       "1    582    51  58.74         58.74  56.741904  56.741904\n",
       "2    639    65  58.74         58.74  61.100551  61.100551\n",
       "3    489    49  58.74         58.74  49.630428  49.630428\n",
       "4    582    49  58.74         58.74  56.741904  56.741904"
      ]
     },
     "execution_count": 102,
     "metadata": {},
     "output_type": "execute_result"
    }
   ],
   "source": []
  },
  {
   "cell_type": "code",
   "execution_count": 103,
   "id": "medieval-lancaster",
   "metadata": {},
   "outputs": [
    {
     "data": {
      "text/plain": [
       "2179.5128424748937"
      ]
     },
     "execution_count": 103,
     "metadata": {},
     "output_type": "execute_result"
    }
   ],
   "source": []
  },
  {
   "cell_type": "code",
   "execution_count": 104,
   "id": "surface-constant",
   "metadata": {},
   "outputs": [
    {
     "data": {
      "text/plain": [
       "0.8614884270926346"
      ]
     },
     "execution_count": 104,
     "metadata": {},
     "output_type": "execute_result"
    }
   ],
   "source": [
    "# R^2"
   ]
  },
  {
   "cell_type": "markdown",
   "id": "elementary-magic",
   "metadata": {},
   "source": [
    "$R^2$ mide lo bueno que es nuestro modelo de regresión. Cuanto más grande, mejor. Es un valor entre 0 y 1    \n",
    "**NOTA**: es computable para cualquier modelo, no importa si es lineal o no. Sólo se necesitan los valores reales y los predichos.  "
   ]
  },
  {
   "cell_type": "markdown",
   "id": "periodic-script",
   "metadata": {},
   "source": [
    "## Regresión lineal con sklearn"
   ]
  },
  {
   "cell_type": "code",
   "execution_count": 106,
   "id": "urban-egyptian",
   "metadata": {},
   "outputs": [
    {
     "data": {
      "text/html": [
       "<div>\n",
       "<style scoped>\n",
       "    .dataframe tbody tr th:only-of-type {\n",
       "        vertical-align: middle;\n",
       "    }\n",
       "\n",
       "    .dataframe tbody tr th {\n",
       "        vertical-align: top;\n",
       "    }\n",
       "\n",
       "    .dataframe thead th {\n",
       "        text-align: right;\n",
       "    }\n",
       "</style>\n",
       "<table border=\"1\" class=\"dataframe\">\n",
       "  <thead>\n",
       "    <tr style=\"text-align: right;\">\n",
       "      <th></th>\n",
       "      <th>horas</th>\n",
       "      <th>nota</th>\n",
       "      <th>media</th>\n",
       "      <th>mean_predict</th>\n",
       "      <th>predigo</th>\n",
       "      <th>predict</th>\n",
       "    </tr>\n",
       "  </thead>\n",
       "  <tbody>\n",
       "    <tr>\n",
       "      <th>0</th>\n",
       "      <td>384</td>\n",
       "      <td>49</td>\n",
       "      <td>58.74</td>\n",
       "      <td>58.74</td>\n",
       "      <td>41.601341</td>\n",
       "      <td>41.601341</td>\n",
       "    </tr>\n",
       "    <tr>\n",
       "      <th>1</th>\n",
       "      <td>582</td>\n",
       "      <td>51</td>\n",
       "      <td>58.74</td>\n",
       "      <td>58.74</td>\n",
       "      <td>56.741904</td>\n",
       "      <td>56.741904</td>\n",
       "    </tr>\n",
       "    <tr>\n",
       "      <th>2</th>\n",
       "      <td>639</td>\n",
       "      <td>65</td>\n",
       "      <td>58.74</td>\n",
       "      <td>58.74</td>\n",
       "      <td>61.100551</td>\n",
       "      <td>61.100551</td>\n",
       "    </tr>\n",
       "    <tr>\n",
       "      <th>3</th>\n",
       "      <td>489</td>\n",
       "      <td>49</td>\n",
       "      <td>58.74</td>\n",
       "      <td>58.74</td>\n",
       "      <td>49.630428</td>\n",
       "      <td>49.630428</td>\n",
       "    </tr>\n",
       "    <tr>\n",
       "      <th>4</th>\n",
       "      <td>582</td>\n",
       "      <td>49</td>\n",
       "      <td>58.74</td>\n",
       "      <td>58.74</td>\n",
       "      <td>56.741904</td>\n",
       "      <td>56.741904</td>\n",
       "    </tr>\n",
       "  </tbody>\n",
       "</table>\n",
       "</div>"
      ],
      "text/plain": [
       "   horas  nota  media  mean_predict    predigo    predict\n",
       "0    384    49  58.74         58.74  41.601341  41.601341\n",
       "1    582    51  58.74         58.74  56.741904  56.741904\n",
       "2    639    65  58.74         58.74  61.100551  61.100551\n",
       "3    489    49  58.74         58.74  49.630428  49.630428\n",
       "4    582    49  58.74         58.74  56.741904  56.741904"
      ]
     },
     "execution_count": 106,
     "metadata": {},
     "output_type": "execute_result"
    }
   ],
   "source": []
  },
  {
   "cell_type": "code",
   "execution_count": 107,
   "id": "super-stuff",
   "metadata": {},
   "outputs": [],
   "source": [
    "# Guardo las variables x,y\n"
   ]
  },
  {
   "cell_type": "code",
   "execution_count": 108,
   "id": "western-romantic",
   "metadata": {},
   "outputs": [
    {
     "data": {
      "text/plain": [
       "LinearRegression()"
      ]
     },
     "execution_count": 108,
     "metadata": {},
     "output_type": "execute_result"
    }
   ],
   "source": [
    "#Entreno el algoritmo\n"
   ]
  },
  {
   "cell_type": "code",
   "execution_count": 109,
   "id": "unique-flight",
   "metadata": {},
   "outputs": [],
   "source": []
  },
  {
   "cell_type": "code",
   "execution_count": 110,
   "id": "broke-updating",
   "metadata": {},
   "outputs": [
    {
     "data": {
      "text/html": [
       "<div>\n",
       "<style scoped>\n",
       "    .dataframe tbody tr th:only-of-type {\n",
       "        vertical-align: middle;\n",
       "    }\n",
       "\n",
       "    .dataframe tbody tr th {\n",
       "        vertical-align: top;\n",
       "    }\n",
       "\n",
       "    .dataframe thead th {\n",
       "        text-align: right;\n",
       "    }\n",
       "</style>\n",
       "<table border=\"1\" class=\"dataframe\">\n",
       "  <thead>\n",
       "    <tr style=\"text-align: right;\">\n",
       "      <th></th>\n",
       "      <th>horas</th>\n",
       "      <th>nota</th>\n",
       "      <th>media</th>\n",
       "      <th>mean_predict</th>\n",
       "      <th>predigo</th>\n",
       "      <th>predict</th>\n",
       "      <th>notas_sklearn</th>\n",
       "    </tr>\n",
       "  </thead>\n",
       "  <tbody>\n",
       "    <tr>\n",
       "      <th>0</th>\n",
       "      <td>384</td>\n",
       "      <td>49</td>\n",
       "      <td>58.74</td>\n",
       "      <td>58.74</td>\n",
       "      <td>41.601341</td>\n",
       "      <td>41.601341</td>\n",
       "      <td>41.601341</td>\n",
       "    </tr>\n",
       "    <tr>\n",
       "      <th>1</th>\n",
       "      <td>582</td>\n",
       "      <td>51</td>\n",
       "      <td>58.74</td>\n",
       "      <td>58.74</td>\n",
       "      <td>56.741904</td>\n",
       "      <td>56.741904</td>\n",
       "      <td>56.741904</td>\n",
       "    </tr>\n",
       "    <tr>\n",
       "      <th>2</th>\n",
       "      <td>639</td>\n",
       "      <td>65</td>\n",
       "      <td>58.74</td>\n",
       "      <td>58.74</td>\n",
       "      <td>61.100551</td>\n",
       "      <td>61.100551</td>\n",
       "      <td>61.100551</td>\n",
       "    </tr>\n",
       "    <tr>\n",
       "      <th>3</th>\n",
       "      <td>489</td>\n",
       "      <td>49</td>\n",
       "      <td>58.74</td>\n",
       "      <td>58.74</td>\n",
       "      <td>49.630428</td>\n",
       "      <td>49.630428</td>\n",
       "      <td>49.630428</td>\n",
       "    </tr>\n",
       "    <tr>\n",
       "      <th>4</th>\n",
       "      <td>582</td>\n",
       "      <td>49</td>\n",
       "      <td>58.74</td>\n",
       "      <td>58.74</td>\n",
       "      <td>56.741904</td>\n",
       "      <td>56.741904</td>\n",
       "      <td>56.741904</td>\n",
       "    </tr>\n",
       "  </tbody>\n",
       "</table>\n",
       "</div>"
      ],
      "text/plain": [
       "   horas  nota  media  mean_predict    predigo    predict  notas_sklearn\n",
       "0    384    49  58.74         58.74  41.601341  41.601341      41.601341\n",
       "1    582    51  58.74         58.74  56.741904  56.741904      56.741904\n",
       "2    639    65  58.74         58.74  61.100551  61.100551      61.100551\n",
       "3    489    49  58.74         58.74  49.630428  49.630428      49.630428\n",
       "4    582    49  58.74         58.74  56.741904  56.741904      56.741904"
      ]
     },
     "execution_count": 110,
     "metadata": {},
     "output_type": "execute_result"
    }
   ],
   "source": []
  },
  {
   "cell_type": "code",
   "execution_count": 111,
   "id": "similar-planner",
   "metadata": {},
   "outputs": [],
   "source": [
    "from sklearn import metrics"
   ]
  },
  {
   "cell_type": "code",
   "execution_count": 113,
   "id": "other-prison",
   "metadata": {},
   "outputs": [
    {
     "name": "stdout",
     "output_type": "stream",
     "text": [
      "MAE:  3.7884008953968036\n",
      "MSE:  21.79512842474894\n",
      "RMSE:  4.6685252944317375\n",
      "R2:  0.8614884270926345\n"
     ]
    }
   ],
   "source": []
  },
  {
   "cell_type": "markdown",
   "id": "conscious-kingdom",
   "metadata": {},
   "source": [
    "** Cálculo del error medio absoluto, del error medio cuadrático y del error medio cuadrático\n",
    "\n",
    "- **MAE** es el más fácil de entender, porque es el error medio.\n",
    "- **El MSE** es más popular que el MAE, porque el MSE \"castiga\" los errores más grandes, lo que suele ser útil en el mundo real.\n",
    "- **RMSE** es aún más popular que MSE, es la raíz cuadrada del MSE y mide la desviación estándar de los residuos.\n",
    "\n",
    "Todas estas son **funciones de pérdida**, porque queremos minimizarlas."
   ]
  },
  {
   "cell_type": "markdown",
   "id": "characteristic-spanking",
   "metadata": {},
   "source": [
    "Lee más sobre MAE, MSE, RMSE Y R2 [AQUÍ](http://medium.com/analytics-vidhya/mae-mse-rmse-coefficient-of-determination-adjusted-r-squared-which-metric-is-better-cd0326a5697e)"
   ]
  },
  {
   "cell_type": "markdown",
   "id": "bridal-albuquerque",
   "metadata": {},
   "source": [
    "## Regresión lineal con statsmodels"
   ]
  },
  {
   "cell_type": "markdown",
   "id": "dominican-values",
   "metadata": {},
   "source": [
    "Para no variar, un poquito de [documentación](https://www.statsmodels.org/stable/generated/statsmodels.regression.linear_model.OLS.html)      \n",
    "Y [este artículo](https://jyotiyadav99111.medium.com/statistics-how-should-i-interpret-results-of-ols-3bde1ebeec01) que resume cómo interpretar la información del summary del OLS"
   ]
  },
  {
   "cell_type": "code",
   "execution_count": 83,
   "id": "gross-tongue",
   "metadata": {},
   "outputs": [
    {
     "data": {
      "text/html": [
       "<table class=\"simpletable\">\n",
       "<caption>OLS Regression Results</caption>\n",
       "<tr>\n",
       "  <th>Dep. Variable:</th>          <td>nota</td>       <th>  R-squared:         </th> <td>   0.843</td>\n",
       "</tr>\n",
       "<tr>\n",
       "  <th>Model:</th>                   <td>OLS</td>       <th>  Adj. R-squared:    </th> <td>   0.842</td>\n",
       "</tr>\n",
       "<tr>\n",
       "  <th>Method:</th>             <td>Least Squares</td>  <th>  F-statistic:       </th> <td>   526.7</td>\n",
       "</tr>\n",
       "<tr>\n",
       "  <th>Date:</th>             <td>Tue, 06 Jul 2021</td> <th>  Prob (F-statistic):</th> <td>3.34e-41</td>\n",
       "</tr>\n",
       "<tr>\n",
       "  <th>Time:</th>                 <td>11:26:48</td>     <th>  Log-Likelihood:    </th> <td> -293.90</td>\n",
       "</tr>\n",
       "<tr>\n",
       "  <th>No. Observations:</th>      <td>   100</td>      <th>  AIC:               </th> <td>   591.8</td>\n",
       "</tr>\n",
       "<tr>\n",
       "  <th>Df Residuals:</th>          <td>    98</td>      <th>  BIC:               </th> <td>   597.0</td>\n",
       "</tr>\n",
       "<tr>\n",
       "  <th>Df Model:</th>              <td>     1</td>      <th>                     </th>     <td> </td>   \n",
       "</tr>\n",
       "<tr>\n",
       "  <th>Covariance Type:</th>      <td>nonrobust</td>    <th>                     </th>     <td> </td>   \n",
       "</tr>\n",
       "</table>\n",
       "<table class=\"simpletable\">\n",
       "<tr>\n",
       "      <td></td>         <th>coef</th>     <th>std err</th>      <th>t</th>      <th>P>|t|</th>  <th>[0.025</th>    <th>0.975]</th>  \n",
       "</tr>\n",
       "<tr>\n",
       "  <th>Intercept</th> <td>   13.9854</td> <td>    1.890</td> <td>    7.401</td> <td> 0.000</td> <td>   10.235</td> <td>   17.736</td>\n",
       "</tr>\n",
       "<tr>\n",
       "  <th>horas</th>     <td>    0.0726</td> <td>    0.003</td> <td>   22.950</td> <td> 0.000</td> <td>    0.066</td> <td>    0.079</td>\n",
       "</tr>\n",
       "</table>\n",
       "<table class=\"simpletable\">\n",
       "<tr>\n",
       "  <th>Omnibus:</th>       <td> 0.403</td> <th>  Durbin-Watson:     </th> <td>   2.266</td>\n",
       "</tr>\n",
       "<tr>\n",
       "  <th>Prob(Omnibus):</th> <td> 0.817</td> <th>  Jarque-Bera (JB):  </th> <td>   0.460</td>\n",
       "</tr>\n",
       "<tr>\n",
       "  <th>Skew:</th>          <td>-0.146</td> <th>  Prob(JB):          </th> <td>   0.795</td>\n",
       "</tr>\n",
       "<tr>\n",
       "  <th>Kurtosis:</th>      <td> 2.843</td> <th>  Cond. No.          </th> <td>2.45e+03</td>\n",
       "</tr>\n",
       "</table><br/><br/>Notes:<br/>[1] Standard Errors assume that the covariance matrix of the errors is correctly specified.<br/>[2] The condition number is large, 2.45e+03. This might indicate that there are<br/>strong multicollinearity or other numerical problems."
      ],
      "text/plain": [
       "<class 'statsmodels.iolib.summary.Summary'>\n",
       "\"\"\"\n",
       "                            OLS Regression Results                            \n",
       "==============================================================================\n",
       "Dep. Variable:                   nota   R-squared:                       0.843\n",
       "Model:                            OLS   Adj. R-squared:                  0.842\n",
       "Method:                 Least Squares   F-statistic:                     526.7\n",
       "Date:                Tue, 06 Jul 2021   Prob (F-statistic):           3.34e-41\n",
       "Time:                        11:26:48   Log-Likelihood:                -293.90\n",
       "No. Observations:                 100   AIC:                             591.8\n",
       "Df Residuals:                      98   BIC:                             597.0\n",
       "Df Model:                           1                                         \n",
       "Covariance Type:            nonrobust                                         \n",
       "==============================================================================\n",
       "                 coef    std err          t      P>|t|      [0.025      0.975]\n",
       "------------------------------------------------------------------------------\n",
       "Intercept     13.9854      1.890      7.401      0.000      10.235      17.736\n",
       "horas          0.0726      0.003     22.950      0.000       0.066       0.079\n",
       "==============================================================================\n",
       "Omnibus:                        0.403   Durbin-Watson:                   2.266\n",
       "Prob(Omnibus):                  0.817   Jarque-Bera (JB):                0.460\n",
       "Skew:                          -0.146   Prob(JB):                        0.795\n",
       "Kurtosis:                       2.843   Cond. No.                     2.45e+03\n",
       "==============================================================================\n",
       "\n",
       "Notes:\n",
       "[1] Standard Errors assume that the covariance matrix of the errors is correctly specified.\n",
       "[2] The condition number is large, 2.45e+03. This might indicate that there are\n",
       "strong multicollinearity or other numerical problems.\n",
       "\"\"\""
      ]
     },
     "execution_count": 83,
     "metadata": {},
     "output_type": "execute_result"
    }
   ],
   "source": []
  },
  {
   "cell_type": "markdown",
   "id": "novel-portugal",
   "metadata": {},
   "source": [
    "## Conceptos del OLS"
   ]
  },
  {
   "cell_type": "markdown",
   "id": "opposite-amazon",
   "metadata": {},
   "source": [
    "-  <b>R2</b> : El coeficiente de determinación mide cuanta de la variación de 𝑦 es explicada por el modelo.\n",
    "Si la varianza de los errores o residuales 𝜎2𝑒 es cero, el modelo explica el 100% de la variable 𝑦. Si 𝜎2𝑒 es igual a la varianza de 𝑦 el modelo no explica nada y 𝑅2 vale cero.\n",
    "\n",
    "\n",
    "- <b>𝑅¯2 </b> : El coeficiente de correlación ajustado 𝑅¯2 corrige el valor de 𝑅2 por la cantidad de variables 𝑘 (igual a 2 para el caso analizado) y la cantidad de datos  𝑁\n",
    "\n",
    "- <b>P value </b> El p-valor para cada término comprueba la hipótesis nula de que el coeficiente es igual a cero (no tiene efecto). Un p-valor bajo (< 0.05) indica que puedes rechazar la hipótesis nula. ... Típicamente se utilizan los p-valores para determinar que téminos deben de mantenerse en el modelo de regresión.\n",
    "\n",
    "\n",
    "Descripción del p valor:\n",
    "El valor p es un valor de probabilidad, por lo que oscila entre 0 y 1. El valor p nos muestra la probabilidad de haber obtenido el resultado que hemos obtenido suponiendo que la hipótesis nula H0 es cierta. Se suele decir que valores altos de p no permiten rechazar la H0, mientras que valores bajos de p sí permiten rechazar la H0.\n",
    "\n",
    "En una prueba estadística, se rechaza la hipótesis nula H0 si el valor p asociado al resultado observado es igual o menor que un nivel de significación $\\alpha$  establecido arbitrariamente, convencionalmente 0,05 o 0,01. En otras palabras, si el resultado obtenido es más inusual que el rango esperado de resultados dada una hipótesis nula H0 cierta y el nivel de significación $\\alpha$  elegido, es decir si p es menor que $\\alpha$, podemos decir que tenemos un resultado estadísticamente significativo que permite rechazar H0.\n",
    "\n",
    "Es importante recalcar que un contraste de hipótesis no permite aceptar una hipótesis; simplemente la rechaza o no la rechaza, es decir que la tacha de verosímil (lo que no significa obligatoriamente que sea cierta, simplemente que es más probable de serlo) o inverosímil."
   ]
  },
  {
   "cell_type": "markdown",
   "id": "particular-russell",
   "metadata": {},
   "source": [
    "## Regresión lineal múltiple\n",
    "\n",
    "Por supuesto, las horas que uno estudia no son el único factor importante para sacar buenas notas en el mundo real. Podemos pensar en el cociente intelectual, por ejemplo, como otro factor determinante. De hecho, podemos generalizar un modelo lineal para tener tantas variables como queramos:\n",
    "\n",
    " $$ Y = \\beta_0 + \\beta_1 X_1 + \\beta_2 X_2 + \\dots + \\beta_2 X_m + \\epsilon$$\n",
    " \n",
    " En este caso lo que vamos a hacer, es añadir una variable que nos resta de la nota, las horas de fiesta.\n",
    " Imaginemos que por cada hora que salimos de fiesta mueren neuronas en nuestro cerebro y se nos olvida información, por tanto, nos restará nota (recordad que estamos inventando datos)"
   ]
  },
  {
   "cell_type": "code",
   "execution_count": 114,
   "id": "original-pride",
   "metadata": {},
   "outputs": [],
   "source": [
    "# Volvemos a crear el dataframe con las notas\n"
   ]
  },
  {
   "cell_type": "code",
   "execution_count": 115,
   "id": "social-making",
   "metadata": {},
   "outputs": [],
   "source": []
  },
  {
   "cell_type": "code",
   "execution_count": 116,
   "id": "union-tokyo",
   "metadata": {},
   "outputs": [],
   "source": []
  },
  {
   "cell_type": "code",
   "execution_count": 117,
   "id": "alone-tradition",
   "metadata": {},
   "outputs": [
    {
     "data": {
      "text/html": [
       "<div>\n",
       "<style scoped>\n",
       "    .dataframe tbody tr th:only-of-type {\n",
       "        vertical-align: middle;\n",
       "    }\n",
       "\n",
       "    .dataframe tbody tr th {\n",
       "        vertical-align: top;\n",
       "    }\n",
       "\n",
       "    .dataframe thead th {\n",
       "        text-align: right;\n",
       "    }\n",
       "</style>\n",
       "<table border=\"1\" class=\"dataframe\">\n",
       "  <thead>\n",
       "    <tr style=\"text-align: right;\">\n",
       "      <th></th>\n",
       "      <th>notas</th>\n",
       "      <th>horas_estudio</th>\n",
       "      <th>horas_fiesta</th>\n",
       "    </tr>\n",
       "  </thead>\n",
       "  <tbody>\n",
       "    <tr>\n",
       "      <th>0</th>\n",
       "      <td>33</td>\n",
       "      <td>422</td>\n",
       "      <td>438</td>\n",
       "    </tr>\n",
       "    <tr>\n",
       "      <th>1</th>\n",
       "      <td>20</td>\n",
       "      <td>440</td>\n",
       "      <td>788</td>\n",
       "    </tr>\n",
       "    <tr>\n",
       "      <th>2</th>\n",
       "      <td>4</td>\n",
       "      <td>212</td>\n",
       "      <td>580</td>\n",
       "    </tr>\n",
       "    <tr>\n",
       "      <th>3</th>\n",
       "      <td>36</td>\n",
       "      <td>480</td>\n",
       "      <td>357</td>\n",
       "    </tr>\n",
       "    <tr>\n",
       "      <th>4</th>\n",
       "      <td>42</td>\n",
       "      <td>473</td>\n",
       "      <td>247</td>\n",
       "    </tr>\n",
       "  </tbody>\n",
       "</table>\n",
       "</div>"
      ],
      "text/plain": [
       "   notas  horas_estudio  horas_fiesta\n",
       "0     33            422           438\n",
       "1     20            440           788\n",
       "2      4            212           580\n",
       "3     36            480           357\n",
       "4     42            473           247"
      ]
     },
     "execution_count": 117,
     "metadata": {},
     "output_type": "execute_result"
    }
   ],
   "source": []
  },
  {
   "cell_type": "code",
   "execution_count": 119,
   "id": "hungarian-shower",
   "metadata": {},
   "outputs": [
    {
     "data": {
      "image/png": "[encoded data removed]",
      "text/plain": [
       "<Figure size 540x540 with 12 Axes>"
      ]
     },
     "metadata": {},
     "output_type": "display_data"
    }
   ],
   "source": []
  },
  {
   "cell_type": "markdown",
   "id": "popular-rachel",
   "metadata": {},
   "source": [
    "Los coeficientes de la regresión lineal múltiple se calculan de forma similar al caso de la regresión lineal simple: minimizan\n",
    "\n",
    "$$RSS = \\Sigma(y_i - \\hat{y_i})^2$$\n",
    "\n",
    "\n",
    "donde:\n",
    "\n",
    " $$ \\hat{y} = \\hat{beta_0} + \\hat{beta_1 X_1} + \\hat{beta_2} X_2 + \\hat + \\hat{\\beta_2} X_m$$"
   ]
  },
  {
   "cell_type": "code",
   "execution_count": null,
   "id": "bigger-china",
   "metadata": {},
   "outputs": [],
   "source": [
    "# Analizamos los resultados con el OLS"
   ]
  },
  {
   "cell_type": "code",
   "execution_count": 104,
   "id": "helpful-grove",
   "metadata": {
    "scrolled": true
   },
   "outputs": [],
   "source": []
  },
  {
   "cell_type": "code",
   "execution_count": 105,
   "id": "exact-stroke",
   "metadata": {},
   "outputs": [
    {
     "data": {
      "text/html": [
       "<table class=\"simpletable\">\n",
       "<caption>OLS Regression Results</caption>\n",
       "<tr>\n",
       "  <th>Dep. Variable:</th>          <td>notas</td>      <th>  R-squared:         </th> <td>   0.894</td>\n",
       "</tr>\n",
       "<tr>\n",
       "  <th>Model:</th>                   <td>OLS</td>       <th>  Adj. R-squared:    </th> <td>   0.892</td>\n",
       "</tr>\n",
       "<tr>\n",
       "  <th>Method:</th>             <td>Least Squares</td>  <th>  F-statistic:       </th> <td>   410.7</td>\n",
       "</tr>\n",
       "<tr>\n",
       "  <th>Date:</th>             <td>Tue, 06 Jul 2021</td> <th>  Prob (F-statistic):</th> <td>4.47e-48</td>\n",
       "</tr>\n",
       "<tr>\n",
       "  <th>Time:</th>                 <td>11:46:23</td>     <th>  Log-Likelihood:    </th> <td> -305.80</td>\n",
       "</tr>\n",
       "<tr>\n",
       "  <th>No. Observations:</th>      <td>   100</td>      <th>  AIC:               </th> <td>   617.6</td>\n",
       "</tr>\n",
       "<tr>\n",
       "  <th>Df Residuals:</th>          <td>    97</td>      <th>  BIC:               </th> <td>   625.4</td>\n",
       "</tr>\n",
       "<tr>\n",
       "  <th>Df Model:</th>              <td>     2</td>      <th>                     </th>     <td> </td>   \n",
       "</tr>\n",
       "<tr>\n",
       "  <th>Covariance Type:</th>      <td>nonrobust</td>    <th>                     </th>     <td> </td>   \n",
       "</tr>\n",
       "</table>\n",
       "<table class=\"simpletable\">\n",
       "<tr>\n",
       "        <td></td>           <th>coef</th>     <th>std err</th>      <th>t</th>      <th>P>|t|</th>  <th>[0.025</th>    <th>0.975]</th>  \n",
       "</tr>\n",
       "<tr>\n",
       "  <th>Intercept</th>     <td>   11.7512</td> <td>    2.015</td> <td>    5.832</td> <td> 0.000</td> <td>    7.752</td> <td>   15.750</td>\n",
       "</tr>\n",
       "<tr>\n",
       "  <th>horas_estudio</th> <td>    0.0806</td> <td>    0.003</td> <td>   26.106</td> <td> 0.000</td> <td>    0.074</td> <td>    0.087</td>\n",
       "</tr>\n",
       "<tr>\n",
       "  <th>horas_fiesta</th>  <td>   -0.0340</td> <td>    0.003</td> <td>  -13.078</td> <td> 0.000</td> <td>   -0.039</td> <td>   -0.029</td>\n",
       "</tr>\n",
       "</table>\n",
       "<table class=\"simpletable\">\n",
       "<tr>\n",
       "  <th>Omnibus:</th>       <td> 1.691</td> <th>  Durbin-Watson:     </th> <td>   1.999</td>\n",
       "</tr>\n",
       "<tr>\n",
       "  <th>Prob(Omnibus):</th> <td> 0.429</td> <th>  Jarque-Bera (JB):  </th> <td>   1.130</td>\n",
       "</tr>\n",
       "<tr>\n",
       "  <th>Skew:</th>          <td> 0.177</td> <th>  Prob(JB):          </th> <td>   0.568</td>\n",
       "</tr>\n",
       "<tr>\n",
       "  <th>Kurtosis:</th>      <td> 3.383</td> <th>  Cond. No.          </th> <td>2.80e+03</td>\n",
       "</tr>\n",
       "</table><br/><br/>Notes:<br/>[1] Standard Errors assume that the covariance matrix of the errors is correctly specified.<br/>[2] The condition number is large, 2.8e+03. This might indicate that there are<br/>strong multicollinearity or other numerical problems."
      ],
      "text/plain": [
       "<class 'statsmodels.iolib.summary.Summary'>\n",
       "\"\"\"\n",
       "                            OLS Regression Results                            \n",
       "==============================================================================\n",
       "Dep. Variable:                  notas   R-squared:                       0.894\n",
       "Model:                            OLS   Adj. R-squared:                  0.892\n",
       "Method:                 Least Squares   F-statistic:                     410.7\n",
       "Date:                Tue, 06 Jul 2021   Prob (F-statistic):           4.47e-48\n",
       "Time:                        11:46:23   Log-Likelihood:                -305.80\n",
       "No. Observations:                 100   AIC:                             617.6\n",
       "Df Residuals:                      97   BIC:                             625.4\n",
       "Df Model:                           2                                         \n",
       "Covariance Type:            nonrobust                                         \n",
       "=================================================================================\n",
       "                    coef    std err          t      P>|t|      [0.025      0.975]\n",
       "---------------------------------------------------------------------------------\n",
       "Intercept        11.7512      2.015      5.832      0.000       7.752      15.750\n",
       "horas_estudio     0.0806      0.003     26.106      0.000       0.074       0.087\n",
       "horas_fiesta     -0.0340      0.003    -13.078      0.000      -0.039      -0.029\n",
       "==============================================================================\n",
       "Omnibus:                        1.691   Durbin-Watson:                   1.999\n",
       "Prob(Omnibus):                  0.429   Jarque-Bera (JB):                1.130\n",
       "Skew:                           0.177   Prob(JB):                        0.568\n",
       "Kurtosis:                       3.383   Cond. No.                     2.80e+03\n",
       "==============================================================================\n",
       "\n",
       "Notes:\n",
       "[1] Standard Errors assume that the covariance matrix of the errors is correctly specified.\n",
       "[2] The condition number is large, 2.8e+03. This might indicate that there are\n",
       "strong multicollinearity or other numerical problems.\n",
       "\"\"\""
      ]
     },
     "execution_count": 105,
     "metadata": {},
     "output_type": "execute_result"
    }
   ],
   "source": []
  },
  {
   "cell_type": "markdown",
   "id": "secure-natural",
   "metadata": {},
   "source": [
    "## Variables categóricas\n",
    "\n",
    "Muy a menudo nos enfrentamos a situaciones en las que los predictores son de naturaleza *cualitativa*. Un buen ejemplo podría ser el sexo de una persona, que puede tomar los valores $M$ o $F$. "
   ]
  },
  {
   "cell_type": "code",
   "execution_count": 120,
   "id": "recent-presentation",
   "metadata": {},
   "outputs": [
    {
     "data": {
      "text/html": [
       "<div>\n",
       "<style scoped>\n",
       "    .dataframe tbody tr th:only-of-type {\n",
       "        vertical-align: middle;\n",
       "    }\n",
       "\n",
       "    .dataframe tbody tr th {\n",
       "        vertical-align: top;\n",
       "    }\n",
       "\n",
       "    .dataframe thead th {\n",
       "        text-align: right;\n",
       "    }\n",
       "</style>\n",
       "<table border=\"1\" class=\"dataframe\">\n",
       "  <thead>\n",
       "    <tr style=\"text-align: right;\">\n",
       "      <th></th>\n",
       "      <th>notas</th>\n",
       "      <th>horas_estudio</th>\n",
       "      <th>horas_fiesta</th>\n",
       "      <th>music</th>\n",
       "    </tr>\n",
       "  </thead>\n",
       "  <tbody>\n",
       "    <tr>\n",
       "      <th>0</th>\n",
       "      <td>33</td>\n",
       "      <td>422</td>\n",
       "      <td>438</td>\n",
       "      <td>indie</td>\n",
       "    </tr>\n",
       "    <tr>\n",
       "      <th>1</th>\n",
       "      <td>20</td>\n",
       "      <td>440</td>\n",
       "      <td>788</td>\n",
       "      <td>rock</td>\n",
       "    </tr>\n",
       "    <tr>\n",
       "      <th>2</th>\n",
       "      <td>4</td>\n",
       "      <td>212</td>\n",
       "      <td>580</td>\n",
       "      <td>indie</td>\n",
       "    </tr>\n",
       "    <tr>\n",
       "      <th>3</th>\n",
       "      <td>36</td>\n",
       "      <td>480</td>\n",
       "      <td>357</td>\n",
       "      <td>indie</td>\n",
       "    </tr>\n",
       "    <tr>\n",
       "      <th>4</th>\n",
       "      <td>42</td>\n",
       "      <td>473</td>\n",
       "      <td>247</td>\n",
       "      <td>rock</td>\n",
       "    </tr>\n",
       "  </tbody>\n",
       "</table>\n",
       "</div>"
      ],
      "text/plain": [
       "   notas  horas_estudio  horas_fiesta  music\n",
       "0     33            422           438  indie\n",
       "1     20            440           788   rock\n",
       "2      4            212           580  indie\n",
       "3     36            480           357  indie\n",
       "4     42            473           247   rock"
      ]
     },
     "execution_count": 120,
     "metadata": {},
     "output_type": "execute_result"
    }
   ],
   "source": []
  },
  {
   "cell_type": "code",
   "execution_count": 121,
   "id": "fifty-collaboration",
   "metadata": {},
   "outputs": [
    {
     "name": "stdout",
     "output_type": "stream",
     "text": [
      "<class 'pandas.core.frame.DataFrame'>\n",
      "RangeIndex: 100 entries, 0 to 99\n",
      "Data columns (total 4 columns):\n",
      " #   Column         Non-Null Count  Dtype \n",
      "---  ------         --------------  ----- \n",
      " 0   notas          100 non-null    int64 \n",
      " 1   horas_estudio  100 non-null    int64 \n",
      " 2   horas_fiesta   100 non-null    int64 \n",
      " 3   music          100 non-null    object\n",
      "dtypes: int64(3), object(1)\n",
      "memory usage: 3.2+ KB\n"
     ]
    }
   ],
   "source": []
  },
  {
   "cell_type": "code",
   "execution_count": 122,
   "id": "surface-witch",
   "metadata": {},
   "outputs": [
    {
     "data": {
      "text/plain": [
       "array(['indie', 'rock'], dtype=object)"
      ]
     },
     "execution_count": 122,
     "metadata": {},
     "output_type": "execute_result"
    }
   ],
   "source": []
  },
  {
   "cell_type": "code",
   "execution_count": 123,
   "id": "particular-study",
   "metadata": {},
   "outputs": [],
   "source": [
    "## ¿Cómo trabajamos estas variables? "
   ]
  },
  {
   "cell_type": "code",
   "execution_count": 124,
   "id": "occasional-catalog",
   "metadata": {},
   "outputs": [
    {
     "data": {
      "text/html": [
       "<div>\n",
       "<style scoped>\n",
       "    .dataframe tbody tr th:only-of-type {\n",
       "        vertical-align: middle;\n",
       "    }\n",
       "\n",
       "    .dataframe tbody tr th {\n",
       "        vertical-align: top;\n",
       "    }\n",
       "\n",
       "    .dataframe thead th {\n",
       "        text-align: right;\n",
       "    }\n",
       "</style>\n",
       "<table border=\"1\" class=\"dataframe\">\n",
       "  <thead>\n",
       "    <tr style=\"text-align: right;\">\n",
       "      <th></th>\n",
       "      <th>notas</th>\n",
       "      <th>horas_estudio</th>\n",
       "      <th>horas_fiesta</th>\n",
       "      <th>music_indie</th>\n",
       "      <th>music_rock</th>\n",
       "    </tr>\n",
       "  </thead>\n",
       "  <tbody>\n",
       "    <tr>\n",
       "      <th>0</th>\n",
       "      <td>33</td>\n",
       "      <td>422</td>\n",
       "      <td>438</td>\n",
       "      <td>1</td>\n",
       "      <td>0</td>\n",
       "    </tr>\n",
       "    <tr>\n",
       "      <th>1</th>\n",
       "      <td>20</td>\n",
       "      <td>440</td>\n",
       "      <td>788</td>\n",
       "      <td>0</td>\n",
       "      <td>1</td>\n",
       "    </tr>\n",
       "    <tr>\n",
       "      <th>2</th>\n",
       "      <td>4</td>\n",
       "      <td>212</td>\n",
       "      <td>580</td>\n",
       "      <td>1</td>\n",
       "      <td>0</td>\n",
       "    </tr>\n",
       "    <tr>\n",
       "      <th>3</th>\n",
       "      <td>36</td>\n",
       "      <td>480</td>\n",
       "      <td>357</td>\n",
       "      <td>1</td>\n",
       "      <td>0</td>\n",
       "    </tr>\n",
       "    <tr>\n",
       "      <th>4</th>\n",
       "      <td>42</td>\n",
       "      <td>473</td>\n",
       "      <td>247</td>\n",
       "      <td>0</td>\n",
       "      <td>1</td>\n",
       "    </tr>\n",
       "    <tr>\n",
       "      <th>...</th>\n",
       "      <td>...</td>\n",
       "      <td>...</td>\n",
       "      <td>...</td>\n",
       "      <td>...</td>\n",
       "      <td>...</td>\n",
       "    </tr>\n",
       "    <tr>\n",
       "      <th>95</th>\n",
       "      <td>31</td>\n",
       "      <td>483</td>\n",
       "      <td>541</td>\n",
       "      <td>1</td>\n",
       "      <td>0</td>\n",
       "    </tr>\n",
       "    <tr>\n",
       "      <th>96</th>\n",
       "      <td>18</td>\n",
       "      <td>297</td>\n",
       "      <td>342</td>\n",
       "      <td>0</td>\n",
       "      <td>1</td>\n",
       "    </tr>\n",
       "    <tr>\n",
       "      <th>97</th>\n",
       "      <td>48</td>\n",
       "      <td>626</td>\n",
       "      <td>470</td>\n",
       "      <td>0</td>\n",
       "      <td>1</td>\n",
       "    </tr>\n",
       "    <tr>\n",
       "      <th>98</th>\n",
       "      <td>16</td>\n",
       "      <td>279</td>\n",
       "      <td>579</td>\n",
       "      <td>1</td>\n",
       "      <td>0</td>\n",
       "    </tr>\n",
       "    <tr>\n",
       "      <th>99</th>\n",
       "      <td>43</td>\n",
       "      <td>699</td>\n",
       "      <td>471</td>\n",
       "      <td>1</td>\n",
       "      <td>0</td>\n",
       "    </tr>\n",
       "  </tbody>\n",
       "</table>\n",
       "<p>100 rows × 5 columns</p>\n",
       "</div>"
      ],
      "text/plain": [
       "    notas  horas_estudio  horas_fiesta  music_indie  music_rock\n",
       "0      33            422           438            1           0\n",
       "1      20            440           788            0           1\n",
       "2       4            212           580            1           0\n",
       "3      36            480           357            1           0\n",
       "4      42            473           247            0           1\n",
       "..    ...            ...           ...          ...         ...\n",
       "95     31            483           541            1           0\n",
       "96     18            297           342            0           1\n",
       "97     48            626           470            0           1\n",
       "98     16            279           579            1           0\n",
       "99     43            699           471            1           0\n",
       "\n",
       "[100 rows x 5 columns]"
      ]
     },
     "execution_count": 124,
     "metadata": {},
     "output_type": "execute_result"
    }
   ],
   "source": []
  },
  {
   "cell_type": "code",
   "execution_count": 126,
   "id": "intellectual-information",
   "metadata": {},
   "outputs": [
    {
     "data": {
      "text/html": [
       "<div>\n",
       "<style scoped>\n",
       "    .dataframe tbody tr th:only-of-type {\n",
       "        vertical-align: middle;\n",
       "    }\n",
       "\n",
       "    .dataframe tbody tr th {\n",
       "        vertical-align: top;\n",
       "    }\n",
       "\n",
       "    .dataframe thead th {\n",
       "        text-align: right;\n",
       "    }\n",
       "</style>\n",
       "<table border=\"1\" class=\"dataframe\">\n",
       "  <thead>\n",
       "    <tr style=\"text-align: right;\">\n",
       "      <th></th>\n",
       "      <th>notas</th>\n",
       "      <th>horas_estudio</th>\n",
       "      <th>horas_fiesta</th>\n",
       "      <th>music</th>\n",
       "      <th>escucha_rock</th>\n",
       "    </tr>\n",
       "  </thead>\n",
       "  <tbody>\n",
       "    <tr>\n",
       "      <th>0</th>\n",
       "      <td>33</td>\n",
       "      <td>422</td>\n",
       "      <td>438</td>\n",
       "      <td>indie</td>\n",
       "      <td>0</td>\n",
       "    </tr>\n",
       "    <tr>\n",
       "      <th>1</th>\n",
       "      <td>20</td>\n",
       "      <td>440</td>\n",
       "      <td>788</td>\n",
       "      <td>rock</td>\n",
       "      <td>1</td>\n",
       "    </tr>\n",
       "    <tr>\n",
       "      <th>2</th>\n",
       "      <td>4</td>\n",
       "      <td>212</td>\n",
       "      <td>580</td>\n",
       "      <td>indie</td>\n",
       "      <td>0</td>\n",
       "    </tr>\n",
       "    <tr>\n",
       "      <th>3</th>\n",
       "      <td>36</td>\n",
       "      <td>480</td>\n",
       "      <td>357</td>\n",
       "      <td>indie</td>\n",
       "      <td>0</td>\n",
       "    </tr>\n",
       "    <tr>\n",
       "      <th>4</th>\n",
       "      <td>42</td>\n",
       "      <td>473</td>\n",
       "      <td>247</td>\n",
       "      <td>rock</td>\n",
       "      <td>1</td>\n",
       "    </tr>\n",
       "  </tbody>\n",
       "</table>\n",
       "</div>"
      ],
      "text/plain": [
       "   notas  horas_estudio  horas_fiesta  music  escucha_rock\n",
       "0     33            422           438  indie             0\n",
       "1     20            440           788   rock             1\n",
       "2      4            212           580  indie             0\n",
       "3     36            480           357  indie             0\n",
       "4     42            473           247   rock             1"
      ]
     },
     "execution_count": 126,
     "metadata": {},
     "output_type": "execute_result"
    }
   ],
   "source": []
  },
  {
   "cell_type": "markdown",
   "id": "connected-phase",
   "metadata": {},
   "source": [
    "Incluimos esta información en el modelo a través de una variable *dummy*:\n",
    "$$\n",
    "x_i= \\left\\{\n",
    "\\begin{array}{ll}\n",
    "      1  \\quad \\text{si la persona escucha rock} \\\\\n",
    "      0  \\quad \\text{si la persona escucha indie} \\\\\n",
    "\\end{array} \n",
    "\\right. \n",
    "$$\n",
    "\n",
    "\n",
    "Si esta es nuestra única variable, esto resulta en un modelo:\n",
    "\n",
    "$$y_i = \\beta_0 + \\beta_1 x_i +\\epsilon_i = \\left\\{\n",
    "\\begin{array}{ll}\n",
    "      \\beta_0 + \\beta_1 +\\epsilon_i  \\quad \\text{si la persona escucha rock} \\\\\n",
    "      \\beta_0 + \\epsilon_i  \\quad \\text{si la persona escucha indie} \\\\\n",
    "\\end{array} \n",
    "\\right.  $$\n",
    "\n",
    "En este caso, $\\beta_0$ representa la nota media de las personas que escuchan rock, y $\\beta_0 + \\beta_1$ la nota media de las personas que escuchan indie."
   ]
  },
  {
   "cell_type": "code",
   "execution_count": 127,
   "id": "adverse-scheduling",
   "metadata": {},
   "outputs": [
    {
     "data": {
      "text/html": [
       "<table class=\"simpletable\">\n",
       "<caption>OLS Regression Results</caption>\n",
       "<tr>\n",
       "  <th>Dep. Variable:</th>          <td>notas</td>      <th>  R-squared:         </th> <td>   0.940</td>\n",
       "</tr>\n",
       "<tr>\n",
       "  <th>Model:</th>                   <td>OLS</td>       <th>  Adj. R-squared:    </th> <td>   0.938</td>\n",
       "</tr>\n",
       "<tr>\n",
       "  <th>Method:</th>             <td>Least Squares</td>  <th>  F-statistic:       </th> <td>   499.0</td>\n",
       "</tr>\n",
       "<tr>\n",
       "  <th>Date:</th>             <td>Mon, 22 Nov 2021</td> <th>  Prob (F-statistic):</th> <td>2.11e-58</td>\n",
       "</tr>\n",
       "<tr>\n",
       "  <th>Time:</th>                 <td>13:52:39</td>     <th>  Log-Likelihood:    </th> <td> -290.26</td>\n",
       "</tr>\n",
       "<tr>\n",
       "  <th>No. Observations:</th>      <td>   100</td>      <th>  AIC:               </th> <td>   588.5</td>\n",
       "</tr>\n",
       "<tr>\n",
       "  <th>Df Residuals:</th>          <td>    96</td>      <th>  BIC:               </th> <td>   598.9</td>\n",
       "</tr>\n",
       "<tr>\n",
       "  <th>Df Model:</th>              <td>     3</td>      <th>                     </th>     <td> </td>   \n",
       "</tr>\n",
       "<tr>\n",
       "  <th>Covariance Type:</th>      <td>nonrobust</td>    <th>                     </th>     <td> </td>   \n",
       "</tr>\n",
       "</table>\n",
       "<table class=\"simpletable\">\n",
       "<tr>\n",
       "        <td></td>           <th>coef</th>     <th>std err</th>      <th>t</th>      <th>P>|t|</th>  <th>[0.025</th>    <th>0.975]</th>  \n",
       "</tr>\n",
       "<tr>\n",
       "  <th>Intercept</th>     <td>    8.6210</td> <td>    1.621</td> <td>    5.317</td> <td> 0.000</td> <td>    5.403</td> <td>   11.839</td>\n",
       "</tr>\n",
       "<tr>\n",
       "  <th>horas_estudio</th> <td>    0.0803</td> <td>    0.002</td> <td>   37.479</td> <td> 0.000</td> <td>    0.076</td> <td>    0.085</td>\n",
       "</tr>\n",
       "<tr>\n",
       "  <th>horas_fiesta</th>  <td>   -0.0298</td> <td>    0.002</td> <td>  -13.110</td> <td> 0.000</td> <td>   -0.034</td> <td>   -0.025</td>\n",
       "</tr>\n",
       "<tr>\n",
       "  <th>escucha_rock</th>  <td>   -0.0649</td> <td>    0.900</td> <td>   -0.072</td> <td> 0.943</td> <td>   -1.852</td> <td>    1.722</td>\n",
       "</tr>\n",
       "</table>\n",
       "<table class=\"simpletable\">\n",
       "<tr>\n",
       "  <th>Omnibus:</th>       <td> 1.306</td> <th>  Durbin-Watson:     </th> <td>   1.747</td>\n",
       "</tr>\n",
       "<tr>\n",
       "  <th>Prob(Omnibus):</th> <td> 0.521</td> <th>  Jarque-Bera (JB):  </th> <td>   1.253</td>\n",
       "</tr>\n",
       "<tr>\n",
       "  <th>Skew:</th>          <td> 0.149</td> <th>  Prob(JB):          </th> <td>   0.534</td>\n",
       "</tr>\n",
       "<tr>\n",
       "  <th>Kurtosis:</th>      <td> 2.540</td> <th>  Cond. No.          </th> <td>2.71e+03</td>\n",
       "</tr>\n",
       "</table><br/><br/>Notes:<br/>[1] Standard Errors assume that the covariance matrix of the errors is correctly specified.<br/>[2] The condition number is large, 2.71e+03. This might indicate that there are<br/>strong multicollinearity or other numerical problems."
      ],
      "text/plain": [
       "<class 'statsmodels.iolib.summary.Summary'>\n",
       "\"\"\"\n",
       "                            OLS Regression Results                            \n",
       "==============================================================================\n",
       "Dep. Variable:                  notas   R-squared:                       0.940\n",
       "Model:                            OLS   Adj. R-squared:                  0.938\n",
       "Method:                 Least Squares   F-statistic:                     499.0\n",
       "Date:                Mon, 22 Nov 2021   Prob (F-statistic):           2.11e-58\n",
       "Time:                        13:52:39   Log-Likelihood:                -290.26\n",
       "No. Observations:                 100   AIC:                             588.5\n",
       "Df Residuals:                      96   BIC:                             598.9\n",
       "Df Model:                           3                                         \n",
       "Covariance Type:            nonrobust                                         \n",
       "=================================================================================\n",
       "                    coef    std err          t      P>|t|      [0.025      0.975]\n",
       "---------------------------------------------------------------------------------\n",
       "Intercept         8.6210      1.621      5.317      0.000       5.403      11.839\n",
       "horas_estudio     0.0803      0.002     37.479      0.000       0.076       0.085\n",
       "horas_fiesta     -0.0298      0.002    -13.110      0.000      -0.034      -0.025\n",
       "escucha_rock     -0.0649      0.900     -0.072      0.943      -1.852       1.722\n",
       "==============================================================================\n",
       "Omnibus:                        1.306   Durbin-Watson:                   1.747\n",
       "Prob(Omnibus):                  0.521   Jarque-Bera (JB):                1.253\n",
       "Skew:                           0.149   Prob(JB):                        0.534\n",
       "Kurtosis:                       2.540   Cond. No.                     2.71e+03\n",
       "==============================================================================\n",
       "\n",
       "Notes:\n",
       "[1] Standard Errors assume that the covariance matrix of the errors is correctly specified.\n",
       "[2] The condition number is large, 2.71e+03. This might indicate that there are\n",
       "strong multicollinearity or other numerical problems.\n",
       "\"\"\""
      ]
     },
     "execution_count": 127,
     "metadata": {},
     "output_type": "execute_result"
    }
   ],
   "source": []
  },
  {
   "cell_type": "markdown",
   "id": "acquired-steps",
   "metadata": {},
   "source": [
    "## Extensiones del modelo lineal\n",
    "\n",
    "Hay varios supuestos que se utilizan al ajustar un modelo lineal.        \n",
    "Asunciones del modelo líneal [VÍDEO](https://www.youtube.com/watch?v=hVe2F9krrWk)\n",
    "* Los errores se distribuyen normalmente y tienen una varianza constante\n",
    "* Los errores no están correlacionados entre sí\n",
    "* **Supuesto aditivo** El efecto de los cambios en un predictor $X_j$ sobre la respuesta $Y$ es independiente de los valores de los otros predictores.\n",
    "* **Supuesto lineal** El cambio en la respuesta para un aumento de una unidad en $X_j$ es el mismo sin importar el valor de $X_j$.\n",
    "\n",
    "### Desafiando la suposición aditiva: la sinergia\n",
    "\n",
    "A veces nuestras variables tendrán interacciones naturales. Por ejemplo, podemos pensar que cuanto más se escuchen nuestros anuncios en la radio, más eficaces serán nuestros anuncios en la televisión. Es decir, el efecto de ambos es *mayor* (o *menor*) que la suma de las partes.\n",
    "\n",
    "Este es un tema comúnmente estudiado en [marketing](https://smallbusiness.chron.com/definition-synergy-marketing-21786.html)"
   ]
  },
  {
   "cell_type": "code",
   "execution_count": 117,
   "id": "hollow-baseline",
   "metadata": {},
   "outputs": [],
   "source": [
    "df_adv = pd.read_csv('../datasets/Advertising.csv')"
   ]
  },
  {
   "cell_type": "markdown",
   "id": "executive-commonwealth",
   "metadata": {},
   "source": [
    "## Manos a la obra\n",
    "* Crear tres modelos independientes de regresión lineal simple\n",
    "    * Interpretar los resultados\n",
    "* Crear un modelo multivariante con los tres predictores\n",
    "    * Interpretar los resultados"
   ]
  },
  {
   "cell_type": "code",
   "execution_count": 118,
   "id": "laughing-patent",
   "metadata": {},
   "outputs": [
    {
     "data": {
      "text/html": [
       "<div>\n",
       "<style scoped>\n",
       "    .dataframe tbody tr th:only-of-type {\n",
       "        vertical-align: middle;\n",
       "    }\n",
       "\n",
       "    .dataframe tbody tr th {\n",
       "        vertical-align: top;\n",
       "    }\n",
       "\n",
       "    .dataframe thead th {\n",
       "        text-align: right;\n",
       "    }\n",
       "</style>\n",
       "<table border=\"1\" class=\"dataframe\">\n",
       "  <thead>\n",
       "    <tr style=\"text-align: right;\">\n",
       "      <th></th>\n",
       "      <th>TV</th>\n",
       "      <th>Radio</th>\n",
       "      <th>Newspaper</th>\n",
       "      <th>Sales</th>\n",
       "    </tr>\n",
       "  </thead>\n",
       "  <tbody>\n",
       "    <tr>\n",
       "      <th>0</th>\n",
       "      <td>230.1</td>\n",
       "      <td>37.8</td>\n",
       "      <td>69.2</td>\n",
       "      <td>22.1</td>\n",
       "    </tr>\n",
       "    <tr>\n",
       "      <th>1</th>\n",
       "      <td>44.5</td>\n",
       "      <td>39.3</td>\n",
       "      <td>45.1</td>\n",
       "      <td>10.4</td>\n",
       "    </tr>\n",
       "    <tr>\n",
       "      <th>2</th>\n",
       "      <td>17.2</td>\n",
       "      <td>45.9</td>\n",
       "      <td>69.3</td>\n",
       "      <td>9.3</td>\n",
       "    </tr>\n",
       "    <tr>\n",
       "      <th>3</th>\n",
       "      <td>151.5</td>\n",
       "      <td>41.3</td>\n",
       "      <td>58.5</td>\n",
       "      <td>18.5</td>\n",
       "    </tr>\n",
       "    <tr>\n",
       "      <th>4</th>\n",
       "      <td>180.8</td>\n",
       "      <td>10.8</td>\n",
       "      <td>58.4</td>\n",
       "      <td>12.9</td>\n",
       "    </tr>\n",
       "    <tr>\n",
       "      <th>...</th>\n",
       "      <td>...</td>\n",
       "      <td>...</td>\n",
       "      <td>...</td>\n",
       "      <td>...</td>\n",
       "    </tr>\n",
       "    <tr>\n",
       "      <th>195</th>\n",
       "      <td>38.2</td>\n",
       "      <td>3.7</td>\n",
       "      <td>13.8</td>\n",
       "      <td>7.6</td>\n",
       "    </tr>\n",
       "    <tr>\n",
       "      <th>196</th>\n",
       "      <td>94.2</td>\n",
       "      <td>4.9</td>\n",
       "      <td>8.1</td>\n",
       "      <td>9.7</td>\n",
       "    </tr>\n",
       "    <tr>\n",
       "      <th>197</th>\n",
       "      <td>177.0</td>\n",
       "      <td>9.3</td>\n",
       "      <td>6.4</td>\n",
       "      <td>12.8</td>\n",
       "    </tr>\n",
       "    <tr>\n",
       "      <th>198</th>\n",
       "      <td>283.6</td>\n",
       "      <td>42.0</td>\n",
       "      <td>66.2</td>\n",
       "      <td>25.5</td>\n",
       "    </tr>\n",
       "    <tr>\n",
       "      <th>199</th>\n",
       "      <td>232.1</td>\n",
       "      <td>8.6</td>\n",
       "      <td>8.7</td>\n",
       "      <td>13.4</td>\n",
       "    </tr>\n",
       "  </tbody>\n",
       "</table>\n",
       "<p>200 rows × 4 columns</p>\n",
       "</div>"
      ],
      "text/plain": [
       "        TV  Radio  Newspaper  Sales\n",
       "0    230.1   37.8       69.2   22.1\n",
       "1     44.5   39.3       45.1   10.4\n",
       "2     17.2   45.9       69.3    9.3\n",
       "3    151.5   41.3       58.5   18.5\n",
       "4    180.8   10.8       58.4   12.9\n",
       "..     ...    ...        ...    ...\n",
       "195   38.2    3.7       13.8    7.6\n",
       "196   94.2    4.9        8.1    9.7\n",
       "197  177.0    9.3        6.4   12.8\n",
       "198  283.6   42.0       66.2   25.5\n",
       "199  232.1    8.6        8.7   13.4\n",
       "\n",
       "[200 rows x 4 columns]"
      ]
     },
     "execution_count": 118,
     "metadata": {},
     "output_type": "execute_result"
    }
   ],
   "source": []
  },
  {
   "cell_type": "code",
   "execution_count": 122,
   "id": "motivated-depth",
   "metadata": {},
   "outputs": [],
   "source": []
  },
  {
   "cell_type": "code",
   "execution_count": 123,
   "id": "arbitrary-lawsuit",
   "metadata": {},
   "outputs": [
    {
     "data": {
      "text/plain": [
       "LinearRegression()"
      ]
     },
     "execution_count": 123,
     "metadata": {},
     "output_type": "execute_result"
    }
   ],
   "source": []
  },
  {
   "cell_type": "code",
   "execution_count": 129,
   "id": "dimensional-nature",
   "metadata": {},
   "outputs": [
    {
     "data": {
      "text/plain": [
       "0.20249578339243965"
      ]
     },
     "execution_count": 129,
     "metadata": {},
     "output_type": "execute_result"
    }
   ],
   "source": []
  },
  {
   "cell_type": "code",
   "execution_count": 130,
   "id": "decent-playlist",
   "metadata": {},
   "outputs": [
    {
     "data": {
      "text/plain": [
       "9.311638095158283"
      ]
     },
     "execution_count": 130,
     "metadata": {},
     "output_type": "execute_result"
    }
   ],
   "source": []
  },
  {
   "cell_type": "code",
   "execution_count": 124,
   "id": "dense-baghdad",
   "metadata": {},
   "outputs": [],
   "source": []
  },
  {
   "cell_type": "code",
   "execution_count": 125,
   "id": "disabled-madagascar",
   "metadata": {},
   "outputs": [
    {
     "data": {
      "text/html": [
       "<div>\n",
       "<style scoped>\n",
       "    .dataframe tbody tr th:only-of-type {\n",
       "        vertical-align: middle;\n",
       "    }\n",
       "\n",
       "    .dataframe tbody tr th {\n",
       "        vertical-align: top;\n",
       "    }\n",
       "\n",
       "    .dataframe thead th {\n",
       "        text-align: right;\n",
       "    }\n",
       "</style>\n",
       "<table border=\"1\" class=\"dataframe\">\n",
       "  <thead>\n",
       "    <tr style=\"text-align: right;\">\n",
       "      <th></th>\n",
       "      <th>TV</th>\n",
       "      <th>Radio</th>\n",
       "      <th>Newspaper</th>\n",
       "      <th>Sales</th>\n",
       "      <th>nueva</th>\n",
       "    </tr>\n",
       "  </thead>\n",
       "  <tbody>\n",
       "    <tr>\n",
       "      <th>0</th>\n",
       "      <td>230.1</td>\n",
       "      <td>37.8</td>\n",
       "      <td>69.2</td>\n",
       "      <td>22.1</td>\n",
       "      <td>16.965979</td>\n",
       "    </tr>\n",
       "    <tr>\n",
       "      <th>1</th>\n",
       "      <td>44.5</td>\n",
       "      <td>39.3</td>\n",
       "      <td>45.1</td>\n",
       "      <td>10.4</td>\n",
       "      <td>17.269722</td>\n",
       "    </tr>\n",
       "    <tr>\n",
       "      <th>2</th>\n",
       "      <td>17.2</td>\n",
       "      <td>45.9</td>\n",
       "      <td>69.3</td>\n",
       "      <td>9.3</td>\n",
       "      <td>18.606195</td>\n",
       "    </tr>\n",
       "    <tr>\n",
       "      <th>3</th>\n",
       "      <td>151.5</td>\n",
       "      <td>41.3</td>\n",
       "      <td>58.5</td>\n",
       "      <td>18.5</td>\n",
       "      <td>17.674714</td>\n",
       "    </tr>\n",
       "    <tr>\n",
       "      <th>4</th>\n",
       "      <td>180.8</td>\n",
       "      <td>10.8</td>\n",
       "      <td>58.4</td>\n",
       "      <td>12.9</td>\n",
       "      <td>11.498593</td>\n",
       "    </tr>\n",
       "  </tbody>\n",
       "</table>\n",
       "</div>"
      ],
      "text/plain": [
       "      TV  Radio  Newspaper  Sales      nueva\n",
       "0  230.1   37.8       69.2   22.1  16.965979\n",
       "1   44.5   39.3       45.1   10.4  17.269722\n",
       "2   17.2   45.9       69.3    9.3  18.606195\n",
       "3  151.5   41.3       58.5   18.5  17.674714\n",
       "4  180.8   10.8       58.4   12.9  11.498593"
      ]
     },
     "execution_count": 125,
     "metadata": {},
     "output_type": "execute_result"
    }
   ],
   "source": []
  },
  {
   "cell_type": "code",
   "execution_count": 126,
   "id": "proprietary-yorkshire",
   "metadata": {},
   "outputs": [
    {
     "data": {
      "text/plain": [
       "<seaborn.axisgrid.PairGrid at 0x7fd8bc1207c0>"
      ]
     },
     "execution_count": 126,
     "metadata": {},
     "output_type": "execute_result"
    },
    {
     "data": {
      "image/png": "[encoded data removed]",
      "text/plain": [
       "<Figure size 900x900 with 30 Axes>"
      ]
     },
     "metadata": {},
     "output_type": "display_data"
    }
   ],
   "source": []
  },
  {
   "cell_type": "code",
   "execution_count": 127,
   "id": "injured-tourism",
   "metadata": {},
   "outputs": [
    {
     "data": {
      "text/html": [
       "<div>\n",
       "<style scoped>\n",
       "    .dataframe tbody tr th:only-of-type {\n",
       "        vertical-align: middle;\n",
       "    }\n",
       "\n",
       "    .dataframe tbody tr th {\n",
       "        vertical-align: top;\n",
       "    }\n",
       "\n",
       "    .dataframe thead th {\n",
       "        text-align: right;\n",
       "    }\n",
       "</style>\n",
       "<table border=\"1\" class=\"dataframe\">\n",
       "  <thead>\n",
       "    <tr style=\"text-align: right;\">\n",
       "      <th></th>\n",
       "      <th>TV</th>\n",
       "      <th>Radio</th>\n",
       "      <th>Newspaper</th>\n",
       "      <th>Sales</th>\n",
       "      <th>nueva</th>\n",
       "    </tr>\n",
       "  </thead>\n",
       "  <tbody>\n",
       "    <tr>\n",
       "      <th>TV</th>\n",
       "      <td>1.000000</td>\n",
       "      <td>0.054809</td>\n",
       "      <td>0.056648</td>\n",
       "      <td>0.782224</td>\n",
       "      <td>0.054809</td>\n",
       "    </tr>\n",
       "    <tr>\n",
       "      <th>Radio</th>\n",
       "      <td>0.054809</td>\n",
       "      <td>1.000000</td>\n",
       "      <td>0.354104</td>\n",
       "      <td>0.576223</td>\n",
       "      <td>1.000000</td>\n",
       "    </tr>\n",
       "    <tr>\n",
       "      <th>Newspaper</th>\n",
       "      <td>0.056648</td>\n",
       "      <td>0.354104</td>\n",
       "      <td>1.000000</td>\n",
       "      <td>0.228299</td>\n",
       "      <td>0.354104</td>\n",
       "    </tr>\n",
       "    <tr>\n",
       "      <th>Sales</th>\n",
       "      <td>0.782224</td>\n",
       "      <td>0.576223</td>\n",
       "      <td>0.228299</td>\n",
       "      <td>1.000000</td>\n",
       "      <td>0.576223</td>\n",
       "    </tr>\n",
       "    <tr>\n",
       "      <th>nueva</th>\n",
       "      <td>0.054809</td>\n",
       "      <td>1.000000</td>\n",
       "      <td>0.354104</td>\n",
       "      <td>0.576223</td>\n",
       "      <td>1.000000</td>\n",
       "    </tr>\n",
       "  </tbody>\n",
       "</table>\n",
       "</div>"
      ],
      "text/plain": [
       "                 TV     Radio  Newspaper     Sales     nueva\n",
       "TV         1.000000  0.054809   0.056648  0.782224  0.054809\n",
       "Radio      0.054809  1.000000   0.354104  0.576223  1.000000\n",
       "Newspaper  0.056648  0.354104   1.000000  0.228299  0.354104\n",
       "Sales      0.782224  0.576223   0.228299  1.000000  0.576223\n",
       "nueva      0.054809  1.000000   0.354104  0.576223  1.000000"
      ]
     },
     "execution_count": 127,
     "metadata": {},
     "output_type": "execute_result"
    }
   ],
   "source": [
    "# Regalo para el lab de hoy "
   ]
  },
  {
   "cell_type": "code",
   "execution_count": 131,
   "id": "clear-metropolitan",
   "metadata": {},
   "outputs": [
    {
     "data": {
      "text/html": [
       "<table class=\"simpletable\">\n",
       "<caption>OLS Regression Results</caption>\n",
       "<tr>\n",
       "  <th>Dep. Variable:</th>          <td>Sales</td>      <th>  R-squared:         </th> <td>   0.612</td>\n",
       "</tr>\n",
       "<tr>\n",
       "  <th>Model:</th>                   <td>OLS</td>       <th>  Adj. R-squared:    </th> <td>   0.610</td>\n",
       "</tr>\n",
       "<tr>\n",
       "  <th>Method:</th>             <td>Least Squares</td>  <th>  F-statistic:       </th> <td>   312.1</td>\n",
       "</tr>\n",
       "<tr>\n",
       "  <th>Date:</th>             <td>Tue, 06 Jul 2021</td> <th>  Prob (F-statistic):</th> <td>1.47e-42</td>\n",
       "</tr>\n",
       "<tr>\n",
       "  <th>Time:</th>                 <td>12:15:30</td>     <th>  Log-Likelihood:    </th> <td> -519.05</td>\n",
       "</tr>\n",
       "<tr>\n",
       "  <th>No. Observations:</th>      <td>   200</td>      <th>  AIC:               </th> <td>   1042.</td>\n",
       "</tr>\n",
       "<tr>\n",
       "  <th>Df Residuals:</th>          <td>   198</td>      <th>  BIC:               </th> <td>   1049.</td>\n",
       "</tr>\n",
       "<tr>\n",
       "  <th>Df Model:</th>              <td>     1</td>      <th>                     </th>     <td> </td>   \n",
       "</tr>\n",
       "<tr>\n",
       "  <th>Covariance Type:</th>      <td>nonrobust</td>    <th>                     </th>     <td> </td>   \n",
       "</tr>\n",
       "</table>\n",
       "<table class=\"simpletable\">\n",
       "<tr>\n",
       "      <td></td>         <th>coef</th>     <th>std err</th>      <th>t</th>      <th>P>|t|</th>  <th>[0.025</th>    <th>0.975]</th>  \n",
       "</tr>\n",
       "<tr>\n",
       "  <th>Intercept</th> <td>    7.0326</td> <td>    0.458</td> <td>   15.360</td> <td> 0.000</td> <td>    6.130</td> <td>    7.935</td>\n",
       "</tr>\n",
       "<tr>\n",
       "  <th>TV</th>        <td>    0.0475</td> <td>    0.003</td> <td>   17.668</td> <td> 0.000</td> <td>    0.042</td> <td>    0.053</td>\n",
       "</tr>\n",
       "</table>\n",
       "<table class=\"simpletable\">\n",
       "<tr>\n",
       "  <th>Omnibus:</th>       <td> 0.531</td> <th>  Durbin-Watson:     </th> <td>   1.935</td>\n",
       "</tr>\n",
       "<tr>\n",
       "  <th>Prob(Omnibus):</th> <td> 0.767</td> <th>  Jarque-Bera (JB):  </th> <td>   0.669</td>\n",
       "</tr>\n",
       "<tr>\n",
       "  <th>Skew:</th>          <td>-0.089</td> <th>  Prob(JB):          </th> <td>   0.716</td>\n",
       "</tr>\n",
       "<tr>\n",
       "  <th>Kurtosis:</th>      <td> 2.779</td> <th>  Cond. No.          </th> <td>    338.</td>\n",
       "</tr>\n",
       "</table><br/><br/>Notes:<br/>[1] Standard Errors assume that the covariance matrix of the errors is correctly specified."
      ],
      "text/plain": [
       "<class 'statsmodels.iolib.summary.Summary'>\n",
       "\"\"\"\n",
       "                            OLS Regression Results                            \n",
       "==============================================================================\n",
       "Dep. Variable:                  Sales   R-squared:                       0.612\n",
       "Model:                            OLS   Adj. R-squared:                  0.610\n",
       "Method:                 Least Squares   F-statistic:                     312.1\n",
       "Date:                Tue, 06 Jul 2021   Prob (F-statistic):           1.47e-42\n",
       "Time:                        12:15:30   Log-Likelihood:                -519.05\n",
       "No. Observations:                 200   AIC:                             1042.\n",
       "Df Residuals:                     198   BIC:                             1049.\n",
       "Df Model:                           1                                         \n",
       "Covariance Type:            nonrobust                                         \n",
       "==============================================================================\n",
       "                 coef    std err          t      P>|t|      [0.025      0.975]\n",
       "------------------------------------------------------------------------------\n",
       "Intercept      7.0326      0.458     15.360      0.000       6.130       7.935\n",
       "TV             0.0475      0.003     17.668      0.000       0.042       0.053\n",
       "==============================================================================\n",
       "Omnibus:                        0.531   Durbin-Watson:                   1.935\n",
       "Prob(Omnibus):                  0.767   Jarque-Bera (JB):                0.669\n",
       "Skew:                          -0.089   Prob(JB):                        0.716\n",
       "Kurtosis:                       2.779   Cond. No.                         338.\n",
       "==============================================================================\n",
       "\n",
       "Notes:\n",
       "[1] Standard Errors assume that the covariance matrix of the errors is correctly specified.\n",
       "\"\"\""
      ]
     },
     "execution_count": 131,
     "metadata": {},
     "output_type": "execute_result"
    }
   ],
   "source": []
  },
  {
   "cell_type": "code",
   "execution_count": 132,
   "id": "harmful-inventory",
   "metadata": {},
   "outputs": [
    {
     "data": {
      "text/html": [
       "<table class=\"simpletable\">\n",
       "<caption>OLS Regression Results</caption>\n",
       "<tr>\n",
       "  <th>Dep. Variable:</th>          <td>Sales</td>      <th>  R-squared:         </th> <td>   0.897</td>\n",
       "</tr>\n",
       "<tr>\n",
       "  <th>Model:</th>                   <td>OLS</td>       <th>  Adj. R-squared:    </th> <td>   0.896</td>\n",
       "</tr>\n",
       "<tr>\n",
       "  <th>Method:</th>             <td>Least Squares</td>  <th>  F-statistic:       </th> <td>   570.3</td>\n",
       "</tr>\n",
       "<tr>\n",
       "  <th>Date:</th>             <td>Tue, 06 Jul 2021</td> <th>  Prob (F-statistic):</th> <td>1.58e-96</td>\n",
       "</tr>\n",
       "<tr>\n",
       "  <th>Time:</th>                 <td>12:16:33</td>     <th>  Log-Likelihood:    </th> <td> -386.18</td>\n",
       "</tr>\n",
       "<tr>\n",
       "  <th>No. Observations:</th>      <td>   200</td>      <th>  AIC:               </th> <td>   780.4</td>\n",
       "</tr>\n",
       "<tr>\n",
       "  <th>Df Residuals:</th>          <td>   196</td>      <th>  BIC:               </th> <td>   793.6</td>\n",
       "</tr>\n",
       "<tr>\n",
       "  <th>Df Model:</th>              <td>     3</td>      <th>                     </th>     <td> </td>   \n",
       "</tr>\n",
       "<tr>\n",
       "  <th>Covariance Type:</th>      <td>nonrobust</td>    <th>                     </th>     <td> </td>   \n",
       "</tr>\n",
       "</table>\n",
       "<table class=\"simpletable\">\n",
       "<tr>\n",
       "      <td></td>         <th>coef</th>     <th>std err</th>      <th>t</th>      <th>P>|t|</th>  <th>[0.025</th>    <th>0.975]</th>  \n",
       "</tr>\n",
       "<tr>\n",
       "  <th>Intercept</th> <td>    2.9389</td> <td>    0.312</td> <td>    9.422</td> <td> 0.000</td> <td>    2.324</td> <td>    3.554</td>\n",
       "</tr>\n",
       "<tr>\n",
       "  <th>TV</th>        <td>    0.0458</td> <td>    0.001</td> <td>   32.809</td> <td> 0.000</td> <td>    0.043</td> <td>    0.049</td>\n",
       "</tr>\n",
       "<tr>\n",
       "  <th>Radio</th>     <td>    0.1885</td> <td>    0.009</td> <td>   21.893</td> <td> 0.000</td> <td>    0.172</td> <td>    0.206</td>\n",
       "</tr>\n",
       "<tr>\n",
       "  <th>Newspaper</th> <td>   -0.0010</td> <td>    0.006</td> <td>   -0.177</td> <td> 0.860</td> <td>   -0.013</td> <td>    0.011</td>\n",
       "</tr>\n",
       "</table>\n",
       "<table class=\"simpletable\">\n",
       "<tr>\n",
       "  <th>Omnibus:</th>       <td>60.414</td> <th>  Durbin-Watson:     </th> <td>   2.084</td>\n",
       "</tr>\n",
       "<tr>\n",
       "  <th>Prob(Omnibus):</th> <td> 0.000</td> <th>  Jarque-Bera (JB):  </th> <td> 151.241</td>\n",
       "</tr>\n",
       "<tr>\n",
       "  <th>Skew:</th>          <td>-1.327</td> <th>  Prob(JB):          </th> <td>1.44e-33</td>\n",
       "</tr>\n",
       "<tr>\n",
       "  <th>Kurtosis:</th>      <td> 6.332</td> <th>  Cond. No.          </th> <td>    454.</td>\n",
       "</tr>\n",
       "</table><br/><br/>Notes:<br/>[1] Standard Errors assume that the covariance matrix of the errors is correctly specified."
      ],
      "text/plain": [
       "<class 'statsmodels.iolib.summary.Summary'>\n",
       "\"\"\"\n",
       "                            OLS Regression Results                            \n",
       "==============================================================================\n",
       "Dep. Variable:                  Sales   R-squared:                       0.897\n",
       "Model:                            OLS   Adj. R-squared:                  0.896\n",
       "Method:                 Least Squares   F-statistic:                     570.3\n",
       "Date:                Tue, 06 Jul 2021   Prob (F-statistic):           1.58e-96\n",
       "Time:                        12:16:33   Log-Likelihood:                -386.18\n",
       "No. Observations:                 200   AIC:                             780.4\n",
       "Df Residuals:                     196   BIC:                             793.6\n",
       "Df Model:                           3                                         \n",
       "Covariance Type:            nonrobust                                         \n",
       "==============================================================================\n",
       "                 coef    std err          t      P>|t|      [0.025      0.975]\n",
       "------------------------------------------------------------------------------\n",
       "Intercept      2.9389      0.312      9.422      0.000       2.324       3.554\n",
       "TV             0.0458      0.001     32.809      0.000       0.043       0.049\n",
       "Radio          0.1885      0.009     21.893      0.000       0.172       0.206\n",
       "Newspaper     -0.0010      0.006     -0.177      0.860      -0.013       0.011\n",
       "==============================================================================\n",
       "Omnibus:                       60.414   Durbin-Watson:                   2.084\n",
       "Prob(Omnibus):                  0.000   Jarque-Bera (JB):              151.241\n",
       "Skew:                          -1.327   Prob(JB):                     1.44e-33\n",
       "Kurtosis:                       6.332   Cond. No.                         454.\n",
       "==============================================================================\n",
       "\n",
       "Notes:\n",
       "[1] Standard Errors assume that the covariance matrix of the errors is correctly specified.\n",
       "\"\"\""
      ]
     },
     "execution_count": 132,
     "metadata": {},
     "output_type": "execute_result"
    }
   ],
   "source": []
  },
  {
   "cell_type": "code",
   "execution_count": 133,
   "id": "little-relations",
   "metadata": {},
   "outputs": [
    {
     "data": {
      "text/html": [
       "<table class=\"simpletable\">\n",
       "<caption>OLS Regression Results</caption>\n",
       "<tr>\n",
       "  <th>Dep. Variable:</th>          <td>Sales</td>      <th>  R-squared:         </th> <td>   0.897</td>\n",
       "</tr>\n",
       "<tr>\n",
       "  <th>Model:</th>                   <td>OLS</td>       <th>  Adj. R-squared:    </th> <td>   0.896</td>\n",
       "</tr>\n",
       "<tr>\n",
       "  <th>Method:</th>             <td>Least Squares</td>  <th>  F-statistic:       </th> <td>   859.6</td>\n",
       "</tr>\n",
       "<tr>\n",
       "  <th>Date:</th>             <td>Tue, 06 Jul 2021</td> <th>  Prob (F-statistic):</th> <td>4.83e-98</td>\n",
       "</tr>\n",
       "<tr>\n",
       "  <th>Time:</th>                 <td>12:18:02</td>     <th>  Log-Likelihood:    </th> <td> -386.20</td>\n",
       "</tr>\n",
       "<tr>\n",
       "  <th>No. Observations:</th>      <td>   200</td>      <th>  AIC:               </th> <td>   778.4</td>\n",
       "</tr>\n",
       "<tr>\n",
       "  <th>Df Residuals:</th>          <td>   197</td>      <th>  BIC:               </th> <td>   788.3</td>\n",
       "</tr>\n",
       "<tr>\n",
       "  <th>Df Model:</th>              <td>     2</td>      <th>                     </th>     <td> </td>   \n",
       "</tr>\n",
       "<tr>\n",
       "  <th>Covariance Type:</th>      <td>nonrobust</td>    <th>                     </th>     <td> </td>   \n",
       "</tr>\n",
       "</table>\n",
       "<table class=\"simpletable\">\n",
       "<tr>\n",
       "      <td></td>         <th>coef</th>     <th>std err</th>      <th>t</th>      <th>P>|t|</th>  <th>[0.025</th>    <th>0.975]</th>  \n",
       "</tr>\n",
       "<tr>\n",
       "  <th>Intercept</th> <td>    2.9211</td> <td>    0.294</td> <td>    9.919</td> <td> 0.000</td> <td>    2.340</td> <td>    3.502</td>\n",
       "</tr>\n",
       "<tr>\n",
       "  <th>TV</th>        <td>    0.0458</td> <td>    0.001</td> <td>   32.909</td> <td> 0.000</td> <td>    0.043</td> <td>    0.048</td>\n",
       "</tr>\n",
       "<tr>\n",
       "  <th>Radio</th>     <td>    0.1880</td> <td>    0.008</td> <td>   23.382</td> <td> 0.000</td> <td>    0.172</td> <td>    0.204</td>\n",
       "</tr>\n",
       "</table>\n",
       "<table class=\"simpletable\">\n",
       "<tr>\n",
       "  <th>Omnibus:</th>       <td>60.022</td> <th>  Durbin-Watson:     </th> <td>   2.081</td>\n",
       "</tr>\n",
       "<tr>\n",
       "  <th>Prob(Omnibus):</th> <td> 0.000</td> <th>  Jarque-Bera (JB):  </th> <td> 148.679</td>\n",
       "</tr>\n",
       "<tr>\n",
       "  <th>Skew:</th>          <td>-1.323</td> <th>  Prob(JB):          </th> <td>5.19e-33</td>\n",
       "</tr>\n",
       "<tr>\n",
       "  <th>Kurtosis:</th>      <td> 6.292</td> <th>  Cond. No.          </th> <td>    425.</td>\n",
       "</tr>\n",
       "</table><br/><br/>Notes:<br/>[1] Standard Errors assume that the covariance matrix of the errors is correctly specified."
      ],
      "text/plain": [
       "<class 'statsmodels.iolib.summary.Summary'>\n",
       "\"\"\"\n",
       "                            OLS Regression Results                            \n",
       "==============================================================================\n",
       "Dep. Variable:                  Sales   R-squared:                       0.897\n",
       "Model:                            OLS   Adj. R-squared:                  0.896\n",
       "Method:                 Least Squares   F-statistic:                     859.6\n",
       "Date:                Tue, 06 Jul 2021   Prob (F-statistic):           4.83e-98\n",
       "Time:                        12:18:02   Log-Likelihood:                -386.20\n",
       "No. Observations:                 200   AIC:                             778.4\n",
       "Df Residuals:                     197   BIC:                             788.3\n",
       "Df Model:                           2                                         \n",
       "Covariance Type:            nonrobust                                         \n",
       "==============================================================================\n",
       "                 coef    std err          t      P>|t|      [0.025      0.975]\n",
       "------------------------------------------------------------------------------\n",
       "Intercept      2.9211      0.294      9.919      0.000       2.340       3.502\n",
       "TV             0.0458      0.001     32.909      0.000       0.043       0.048\n",
       "Radio          0.1880      0.008     23.382      0.000       0.172       0.204\n",
       "==============================================================================\n",
       "Omnibus:                       60.022   Durbin-Watson:                   2.081\n",
       "Prob(Omnibus):                  0.000   Jarque-Bera (JB):              148.679\n",
       "Skew:                          -1.323   Prob(JB):                     5.19e-33\n",
       "Kurtosis:                       6.292   Cond. No.                         425.\n",
       "==============================================================================\n",
       "\n",
       "Notes:\n",
       "[1] Standard Errors assume that the covariance matrix of the errors is correctly specified.\n",
       "\"\"\""
      ]
     },
     "execution_count": 133,
     "metadata": {},
     "output_type": "execute_result"
    }
   ],
   "source": []
  },
  {
   "cell_type": "code",
   "execution_count": 134,
   "id": "increasing-ireland",
   "metadata": {},
   "outputs": [
    {
     "data": {
      "text/html": [
       "<table class=\"simpletable\">\n",
       "<caption>OLS Regression Results</caption>\n",
       "<tr>\n",
       "  <th>Dep. Variable:</th>          <td>Sales</td>      <th>  R-squared:         </th> <td>   0.968</td> \n",
       "</tr>\n",
       "<tr>\n",
       "  <th>Model:</th>                   <td>OLS</td>       <th>  Adj. R-squared:    </th> <td>   0.967</td> \n",
       "</tr>\n",
       "<tr>\n",
       "  <th>Method:</th>             <td>Least Squares</td>  <th>  F-statistic:       </th> <td>   1963.</td> \n",
       "</tr>\n",
       "<tr>\n",
       "  <th>Date:</th>             <td>Tue, 06 Jul 2021</td> <th>  Prob (F-statistic):</th> <td>6.68e-146</td>\n",
       "</tr>\n",
       "<tr>\n",
       "  <th>Time:</th>                 <td>12:20:03</td>     <th>  Log-Likelihood:    </th> <td> -270.14</td> \n",
       "</tr>\n",
       "<tr>\n",
       "  <th>No. Observations:</th>      <td>   200</td>      <th>  AIC:               </th> <td>   548.3</td> \n",
       "</tr>\n",
       "<tr>\n",
       "  <th>Df Residuals:</th>          <td>   196</td>      <th>  BIC:               </th> <td>   561.5</td> \n",
       "</tr>\n",
       "<tr>\n",
       "  <th>Df Model:</th>              <td>     3</td>      <th>                     </th>     <td> </td>    \n",
       "</tr>\n",
       "<tr>\n",
       "  <th>Covariance Type:</th>      <td>nonrobust</td>    <th>                     </th>     <td> </td>    \n",
       "</tr>\n",
       "</table>\n",
       "<table class=\"simpletable\">\n",
       "<tr>\n",
       "      <td></td>         <th>coef</th>     <th>std err</th>      <th>t</th>      <th>P>|t|</th>  <th>[0.025</th>    <th>0.975]</th>  \n",
       "</tr>\n",
       "<tr>\n",
       "  <th>Intercept</th> <td>    6.7502</td> <td>    0.248</td> <td>   27.233</td> <td> 0.000</td> <td>    6.261</td> <td>    7.239</td>\n",
       "</tr>\n",
       "<tr>\n",
       "  <th>TV</th>        <td>    0.0191</td> <td>    0.002</td> <td>   12.699</td> <td> 0.000</td> <td>    0.016</td> <td>    0.022</td>\n",
       "</tr>\n",
       "<tr>\n",
       "  <th>Radio</th>     <td>    0.0289</td> <td>    0.009</td> <td>    3.241</td> <td> 0.001</td> <td>    0.011</td> <td>    0.046</td>\n",
       "</tr>\n",
       "<tr>\n",
       "  <th>TV:Radio</th>  <td>    0.0011</td> <td> 5.24e-05</td> <td>   20.727</td> <td> 0.000</td> <td>    0.001</td> <td>    0.001</td>\n",
       "</tr>\n",
       "</table>\n",
       "<table class=\"simpletable\">\n",
       "<tr>\n",
       "  <th>Omnibus:</th>       <td>128.132</td> <th>  Durbin-Watson:     </th> <td>   2.224</td> \n",
       "</tr>\n",
       "<tr>\n",
       "  <th>Prob(Omnibus):</th> <td> 0.000</td>  <th>  Jarque-Bera (JB):  </th> <td>1183.719</td> \n",
       "</tr>\n",
       "<tr>\n",
       "  <th>Skew:</th>          <td>-2.323</td>  <th>  Prob(JB):          </th> <td>9.09e-258</td>\n",
       "</tr>\n",
       "<tr>\n",
       "  <th>Kurtosis:</th>      <td>13.975</td>  <th>  Cond. No.          </th> <td>1.80e+04</td> \n",
       "</tr>\n",
       "</table><br/><br/>Notes:<br/>[1] Standard Errors assume that the covariance matrix of the errors is correctly specified.<br/>[2] The condition number is large, 1.8e+04. This might indicate that there are<br/>strong multicollinearity or other numerical problems."
      ],
      "text/plain": [
       "<class 'statsmodels.iolib.summary.Summary'>\n",
       "\"\"\"\n",
       "                            OLS Regression Results                            \n",
       "==============================================================================\n",
       "Dep. Variable:                  Sales   R-squared:                       0.968\n",
       "Model:                            OLS   Adj. R-squared:                  0.967\n",
       "Method:                 Least Squares   F-statistic:                     1963.\n",
       "Date:                Tue, 06 Jul 2021   Prob (F-statistic):          6.68e-146\n",
       "Time:                        12:20:03   Log-Likelihood:                -270.14\n",
       "No. Observations:                 200   AIC:                             548.3\n",
       "Df Residuals:                     196   BIC:                             561.5\n",
       "Df Model:                           3                                         \n",
       "Covariance Type:            nonrobust                                         \n",
       "==============================================================================\n",
       "                 coef    std err          t      P>|t|      [0.025      0.975]\n",
       "------------------------------------------------------------------------------\n",
       "Intercept      6.7502      0.248     27.233      0.000       6.261       7.239\n",
       "TV             0.0191      0.002     12.699      0.000       0.016       0.022\n",
       "Radio          0.0289      0.009      3.241      0.001       0.011       0.046\n",
       "TV:Radio       0.0011   5.24e-05     20.727      0.000       0.001       0.001\n",
       "==============================================================================\n",
       "Omnibus:                      128.132   Durbin-Watson:                   2.224\n",
       "Prob(Omnibus):                  0.000   Jarque-Bera (JB):             1183.719\n",
       "Skew:                          -2.323   Prob(JB):                    9.09e-258\n",
       "Kurtosis:                      13.975   Cond. No.                     1.80e+04\n",
       "==============================================================================\n",
       "\n",
       "Notes:\n",
       "[1] Standard Errors assume that the covariance matrix of the errors is correctly specified.\n",
       "[2] The condition number is large, 1.8e+04. This might indicate that there are\n",
       "strong multicollinearity or other numerical problems.\n",
       "\"\"\""
      ]
     },
     "execution_count": 134,
     "metadata": {},
     "output_type": "execute_result"
    }
   ],
   "source": []
  },
  {
   "cell_type": "markdown",
   "id": "cordless-knock",
   "metadata": {},
   "source": [
    "La diferencia es que la covarianza nos da la dirección (positiva o negativa) entre las variables y la correlación nos da esto más la fuerza de esta."
   ]
  },
  {
   "cell_type": "markdown",
   "id": "disabled-quarter",
   "metadata": {},
   "source": [
    "Recuerde el **principio jerárquico:**\n",
    "\n",
    "\"*Si incluimos una interacción en un modelo, debemos incluir también los efectos principales, incluso si los valores p que se asocian a sus coeficientes no son significativos*\""
   ]
  },
  {
   "cell_type": "markdown",
   "id": "reliable-cleaning",
   "metadata": {},
   "source": [
    "## Selección de modelo"
   ]
  },
  {
   "cell_type": "markdown",
   "id": "juvenile-saturday",
   "metadata": {},
   "source": [
    "###  $R^2$ Ajustado \n",
    "Hay una cosa curiosa con $R^2$. ¡¡Mira lo que pasa cuando incluimos variables *al azar*!!"
   ]
  },
  {
   "cell_type": "code",
   "execution_count": 135,
   "id": "exposed-shepherd",
   "metadata": {},
   "outputs": [],
   "source": [
    "df_adv['rand_1'] = np.random.normal(size=200)\n",
    "df_adv['rand_2'] = np.random.normal(size=200)\n",
    "df_adv['rand_3'] = np.random.normal(size=200)\n",
    "df_adv['rand_4'] = np.random.normal(size=200)\n",
    "df_adv['rand_5'] = np.random.normal(size=200)\n",
    "df_adv['rand_6'] = np.random.normal(size=200)\n",
    "df_adv['rand_7'] = np.random.normal(size=200)\n",
    "df_adv['rand_8'] = np.random.normal(size=200)"
   ]
  },
  {
   "cell_type": "code",
   "execution_count": 136,
   "id": "divided-cannon",
   "metadata": {
    "scrolled": true
   },
   "outputs": [
    {
     "data": {
      "text/html": [
       "<div>\n",
       "<style scoped>\n",
       "    .dataframe tbody tr th:only-of-type {\n",
       "        vertical-align: middle;\n",
       "    }\n",
       "\n",
       "    .dataframe tbody tr th {\n",
       "        vertical-align: top;\n",
       "    }\n",
       "\n",
       "    .dataframe thead th {\n",
       "        text-align: right;\n",
       "    }\n",
       "</style>\n",
       "<table border=\"1\" class=\"dataframe\">\n",
       "  <thead>\n",
       "    <tr style=\"text-align: right;\">\n",
       "      <th></th>\n",
       "      <th>TV</th>\n",
       "      <th>Radio</th>\n",
       "      <th>Newspaper</th>\n",
       "      <th>Sales</th>\n",
       "      <th>nueva</th>\n",
       "      <th>rand_1</th>\n",
       "      <th>rand_2</th>\n",
       "      <th>rand_3</th>\n",
       "      <th>rand_4</th>\n",
       "      <th>rand_5</th>\n",
       "      <th>rand_6</th>\n",
       "      <th>rand_7</th>\n",
       "      <th>rand_8</th>\n",
       "    </tr>\n",
       "  </thead>\n",
       "  <tbody>\n",
       "    <tr>\n",
       "      <th>0</th>\n",
       "      <td>230.1</td>\n",
       "      <td>37.8</td>\n",
       "      <td>69.2</td>\n",
       "      <td>22.1</td>\n",
       "      <td>16.965979</td>\n",
       "      <td>-0.485311</td>\n",
       "      <td>-0.419977</td>\n",
       "      <td>-1.283679</td>\n",
       "      <td>0.162258</td>\n",
       "      <td>-0.192076</td>\n",
       "      <td>-0.834104</td>\n",
       "      <td>1.978800</td>\n",
       "      <td>1.528574</td>\n",
       "    </tr>\n",
       "    <tr>\n",
       "      <th>1</th>\n",
       "      <td>44.5</td>\n",
       "      <td>39.3</td>\n",
       "      <td>45.1</td>\n",
       "      <td>10.4</td>\n",
       "      <td>17.269722</td>\n",
       "      <td>0.395259</td>\n",
       "      <td>-0.861714</td>\n",
       "      <td>0.837260</td>\n",
       "      <td>1.518054</td>\n",
       "      <td>1.230189</td>\n",
       "      <td>-0.567534</td>\n",
       "      <td>0.832212</td>\n",
       "      <td>-1.807700</td>\n",
       "    </tr>\n",
       "    <tr>\n",
       "      <th>2</th>\n",
       "      <td>17.2</td>\n",
       "      <td>45.9</td>\n",
       "      <td>69.3</td>\n",
       "      <td>9.3</td>\n",
       "      <td>18.606195</td>\n",
       "      <td>0.883165</td>\n",
       "      <td>0.014567</td>\n",
       "      <td>-0.881287</td>\n",
       "      <td>-1.143047</td>\n",
       "      <td>-0.040236</td>\n",
       "      <td>0.136434</td>\n",
       "      <td>1.064011</td>\n",
       "      <td>1.557156</td>\n",
       "    </tr>\n",
       "    <tr>\n",
       "      <th>3</th>\n",
       "      <td>151.5</td>\n",
       "      <td>41.3</td>\n",
       "      <td>58.5</td>\n",
       "      <td>18.5</td>\n",
       "      <td>17.674714</td>\n",
       "      <td>-0.844494</td>\n",
       "      <td>0.242445</td>\n",
       "      <td>-1.206931</td>\n",
       "      <td>0.072769</td>\n",
       "      <td>1.443622</td>\n",
       "      <td>0.207786</td>\n",
       "      <td>-0.457332</td>\n",
       "      <td>-1.756727</td>\n",
       "    </tr>\n",
       "    <tr>\n",
       "      <th>4</th>\n",
       "      <td>180.8</td>\n",
       "      <td>10.8</td>\n",
       "      <td>58.4</td>\n",
       "      <td>12.9</td>\n",
       "      <td>11.498593</td>\n",
       "      <td>1.039705</td>\n",
       "      <td>0.032921</td>\n",
       "      <td>1.100674</td>\n",
       "      <td>-0.197681</td>\n",
       "      <td>-2.005581</td>\n",
       "      <td>-1.246737</td>\n",
       "      <td>0.129197</td>\n",
       "      <td>1.124157</td>\n",
       "    </tr>\n",
       "  </tbody>\n",
       "</table>\n",
       "</div>"
      ],
      "text/plain": [
       "      TV  Radio  Newspaper  Sales      nueva    rand_1    rand_2    rand_3  \\\n",
       "0  230.1   37.8       69.2   22.1  16.965979 -0.485311 -0.419977 -1.283679   \n",
       "1   44.5   39.3       45.1   10.4  17.269722  0.395259 -0.861714  0.837260   \n",
       "2   17.2   45.9       69.3    9.3  18.606195  0.883165  0.014567 -0.881287   \n",
       "3  151.5   41.3       58.5   18.5  17.674714 -0.844494  0.242445 -1.206931   \n",
       "4  180.8   10.8       58.4   12.9  11.498593  1.039705  0.032921  1.100674   \n",
       "\n",
       "     rand_4    rand_5    rand_6    rand_7    rand_8  \n",
       "0  0.162258 -0.192076 -0.834104  1.978800  1.528574  \n",
       "1  1.518054  1.230189 -0.567534  0.832212 -1.807700  \n",
       "2 -1.143047 -0.040236  0.136434  1.064011  1.557156  \n",
       "3  0.072769  1.443622  0.207786 -0.457332 -1.756727  \n",
       "4 -0.197681 -2.005581 -1.246737  0.129197  1.124157  "
      ]
     },
     "execution_count": 136,
     "metadata": {},
     "output_type": "execute_result"
    }
   ],
   "source": []
  },
  {
   "cell_type": "code",
   "execution_count": 137,
   "id": "streaming-variable",
   "metadata": {},
   "outputs": [
    {
     "data": {
      "text/html": [
       "<table class=\"simpletable\">\n",
       "<caption>OLS Regression Results</caption>\n",
       "<tr>\n",
       "  <th>Dep. Variable:</th>          <td>Sales</td>      <th>  R-squared:         </th> <td>   0.969</td> \n",
       "</tr>\n",
       "<tr>\n",
       "  <th>Model:</th>                   <td>OLS</td>       <th>  Adj. R-squared:    </th> <td>   0.967</td> \n",
       "</tr>\n",
       "<tr>\n",
       "  <th>Method:</th>             <td>Least Squares</td>  <th>  F-statistic:       </th> <td>   535.7</td> \n",
       "</tr>\n",
       "<tr>\n",
       "  <th>Date:</th>             <td>Tue, 06 Jul 2021</td> <th>  Prob (F-statistic):</th> <td>1.71e-135</td>\n",
       "</tr>\n",
       "<tr>\n",
       "  <th>Time:</th>                 <td>12:28:00</td>     <th>  Log-Likelihood:    </th> <td> -266.04</td> \n",
       "</tr>\n",
       "<tr>\n",
       "  <th>No. Observations:</th>      <td>   200</td>      <th>  AIC:               </th> <td>   556.1</td> \n",
       "</tr>\n",
       "<tr>\n",
       "  <th>Df Residuals:</th>          <td>   188</td>      <th>  BIC:               </th> <td>   595.7</td> \n",
       "</tr>\n",
       "<tr>\n",
       "  <th>Df Model:</th>              <td>    11</td>      <th>                     </th>     <td> </td>    \n",
       "</tr>\n",
       "<tr>\n",
       "  <th>Covariance Type:</th>      <td>nonrobust</td>    <th>                     </th>     <td> </td>    \n",
       "</tr>\n",
       "</table>\n",
       "<table class=\"simpletable\">\n",
       "<tr>\n",
       "      <td></td>         <th>coef</th>     <th>std err</th>      <th>t</th>      <th>P>|t|</th>  <th>[0.025</th>    <th>0.975]</th>  \n",
       "</tr>\n",
       "<tr>\n",
       "  <th>Intercept</th> <td>    6.7904</td> <td>    0.253</td> <td>   26.892</td> <td> 0.000</td> <td>    6.292</td> <td>    7.289</td>\n",
       "</tr>\n",
       "<tr>\n",
       "  <th>TV</th>        <td>    0.0189</td> <td>    0.002</td> <td>   12.322</td> <td> 0.000</td> <td>    0.016</td> <td>    0.022</td>\n",
       "</tr>\n",
       "<tr>\n",
       "  <th>Radio</th>     <td>    0.0270</td> <td>    0.009</td> <td>    2.983</td> <td> 0.003</td> <td>    0.009</td> <td>    0.045</td>\n",
       "</tr>\n",
       "<tr>\n",
       "  <th>TV:Radio</th>  <td>    0.0011</td> <td> 5.33e-05</td> <td>   20.483</td> <td> 0.000</td> <td>    0.001</td> <td>    0.001</td>\n",
       "</tr>\n",
       "<tr>\n",
       "  <th>rand_1</th>    <td>    0.0232</td> <td>    0.067</td> <td>    0.344</td> <td> 0.731</td> <td>   -0.110</td> <td>    0.156</td>\n",
       "</tr>\n",
       "<tr>\n",
       "  <th>rand_2</th>    <td>   -0.0868</td> <td>    0.069</td> <td>   -1.250</td> <td> 0.213</td> <td>   -0.224</td> <td>    0.050</td>\n",
       "</tr>\n",
       "<tr>\n",
       "  <th>rand_3</th>    <td>    0.0239</td> <td>    0.071</td> <td>    0.336</td> <td> 0.738</td> <td>   -0.117</td> <td>    0.164</td>\n",
       "</tr>\n",
       "<tr>\n",
       "  <th>rand_4</th>    <td>   -0.0360</td> <td>    0.074</td> <td>   -0.484</td> <td> 0.629</td> <td>   -0.183</td> <td>    0.111</td>\n",
       "</tr>\n",
       "<tr>\n",
       "  <th>rand_5</th>    <td>   -0.0073</td> <td>    0.066</td> <td>   -0.110</td> <td> 0.912</td> <td>   -0.138</td> <td>    0.124</td>\n",
       "</tr>\n",
       "<tr>\n",
       "  <th>rand_6</th>    <td>   -0.0615</td> <td>    0.067</td> <td>   -0.915</td> <td> 0.361</td> <td>   -0.194</td> <td>    0.071</td>\n",
       "</tr>\n",
       "<tr>\n",
       "  <th>rand_7</th>    <td>   -0.0474</td> <td>    0.071</td> <td>   -0.664</td> <td> 0.508</td> <td>   -0.188</td> <td>    0.093</td>\n",
       "</tr>\n",
       "<tr>\n",
       "  <th>rand_8</th>    <td>   -0.1248</td> <td>    0.063</td> <td>   -1.969</td> <td> 0.050</td> <td>   -0.250</td> <td>    0.000</td>\n",
       "</tr>\n",
       "</table>\n",
       "<table class=\"simpletable\">\n",
       "<tr>\n",
       "  <th>Omnibus:</th>       <td>124.855</td> <th>  Durbin-Watson:     </th> <td>   2.207</td> \n",
       "</tr>\n",
       "<tr>\n",
       "  <th>Prob(Omnibus):</th> <td> 0.000</td>  <th>  Jarque-Bera (JB):  </th> <td>1132.603</td> \n",
       "</tr>\n",
       "<tr>\n",
       "  <th>Skew:</th>          <td>-2.249</td>  <th>  Prob(JB):          </th> <td>1.14e-246</td>\n",
       "</tr>\n",
       "<tr>\n",
       "  <th>Kurtosis:</th>      <td>13.755</td>  <th>  Cond. No.          </th> <td>1.84e+04</td> \n",
       "</tr>\n",
       "</table><br/><br/>Notes:<br/>[1] Standard Errors assume that the covariance matrix of the errors is correctly specified.<br/>[2] The condition number is large, 1.84e+04. This might indicate that there are<br/>strong multicollinearity or other numerical problems."
      ],
      "text/plain": [
       "<class 'statsmodels.iolib.summary.Summary'>\n",
       "\"\"\"\n",
       "                            OLS Regression Results                            \n",
       "==============================================================================\n",
       "Dep. Variable:                  Sales   R-squared:                       0.969\n",
       "Model:                            OLS   Adj. R-squared:                  0.967\n",
       "Method:                 Least Squares   F-statistic:                     535.7\n",
       "Date:                Tue, 06 Jul 2021   Prob (F-statistic):          1.71e-135\n",
       "Time:                        12:28:00   Log-Likelihood:                -266.04\n",
       "No. Observations:                 200   AIC:                             556.1\n",
       "Df Residuals:                     188   BIC:                             595.7\n",
       "Df Model:                          11                                         \n",
       "Covariance Type:            nonrobust                                         \n",
       "==============================================================================\n",
       "                 coef    std err          t      P>|t|      [0.025      0.975]\n",
       "------------------------------------------------------------------------------\n",
       "Intercept      6.7904      0.253     26.892      0.000       6.292       7.289\n",
       "TV             0.0189      0.002     12.322      0.000       0.016       0.022\n",
       "Radio          0.0270      0.009      2.983      0.003       0.009       0.045\n",
       "TV:Radio       0.0011   5.33e-05     20.483      0.000       0.001       0.001\n",
       "rand_1         0.0232      0.067      0.344      0.731      -0.110       0.156\n",
       "rand_2        -0.0868      0.069     -1.250      0.213      -0.224       0.050\n",
       "rand_3         0.0239      0.071      0.336      0.738      -0.117       0.164\n",
       "rand_4        -0.0360      0.074     -0.484      0.629      -0.183       0.111\n",
       "rand_5        -0.0073      0.066     -0.110      0.912      -0.138       0.124\n",
       "rand_6        -0.0615      0.067     -0.915      0.361      -0.194       0.071\n",
       "rand_7        -0.0474      0.071     -0.664      0.508      -0.188       0.093\n",
       "rand_8        -0.1248      0.063     -1.969      0.050      -0.250       0.000\n",
       "==============================================================================\n",
       "Omnibus:                      124.855   Durbin-Watson:                   2.207\n",
       "Prob(Omnibus):                  0.000   Jarque-Bera (JB):             1132.603\n",
       "Skew:                          -2.249   Prob(JB):                    1.14e-246\n",
       "Kurtosis:                      13.755   Cond. No.                     1.84e+04\n",
       "==============================================================================\n",
       "\n",
       "Notes:\n",
       "[1] Standard Errors assume that the covariance matrix of the errors is correctly specified.\n",
       "[2] The condition number is large, 1.84e+04. This might indicate that there are\n",
       "strong multicollinearity or other numerical problems.\n",
       "\"\"\""
      ]
     },
     "execution_count": 137,
     "metadata": {},
     "output_type": "execute_result"
    }
   ],
   "source": []
  },
  {
   "cell_type": "markdown",
   "id": "anonymous-receiver",
   "metadata": {},
   "source": [
    "El coeficiente `Adj. R-cuadrado` pretende penalizar el $R^2$ de un modelo cuando se incluyen *demasiadas* varaibles. \n",
    "$$\\bar R^2 = 1-(1-R^2){n-1 \\ sobre n-p-1}$$"
   ]
  },
  {
   "cell_type": "markdown",
   "id": "sticky-participation",
   "metadata": {},
   "source": [
    "## Selección por pasos\n",
    "Siempre hay que intentar tener un modelo lo más sencillo posible. Habrá otras formas de hacerlo utilizando la **regularización**, veremos más adelante cómo hay librerías que nos ayudarán a decidir si nos quedamos con unas u otras variables, pero hasta ahora los métodos que describimos aquí son bastante útiles."
   ]
  },
  {
   "cell_type": "markdown",
   "id": "center-wallet",
   "metadata": {},
   "source": [
    "### Best subset selection"
   ]
  },
  {
   "cell_type": "markdown",
   "id": "macro-constant",
   "metadata": {},
   "source": [
    "El proceso de best subset selection consiste en evaluar todos los posibles modelos que se pueden crear por combinación de los predictores disponibles. El algoritmo a seguir para k predictores es:\n",
    "\n",
    "- Se genera lo que se conoce como modelo nulo (M0), que es el modelo sin ningún predictor.\n",
    "\n",
    "- Se generan todos los posibles modelos que contienen un único predictor y se selecciona el que tiene menor error de entrenamiento. Al modelo seleccionado se denomina (M1).\n",
    "\n",
    "- Se repite el paso anterior para modelos con dos predictores y así sucesivamente hasta llegar al modelo con todos los predictores (Mk).\n",
    "\n",
    "- De entre los mejores modelos seleccionados para cada número de predictores (M0, M1, M2,…,Mk) se identifica el mejor modelo, esta vez empleando una métrica de validación (R2 Ajustado).     \n",
    "\n",
    "A pesar de que este método explora todas las posibilidades, tiene dos limitaciones fundamentales:\n",
    "Requerimientos computacionales: Se requiere calcular 2p modelos distintos, lo que lo hace inviable para más de 40 predictores.\n",
    "Problemas de overfitting. Al generarse tantos modelos, por simple azar se pueden encontrar buenos resultados. Por esta razón best subset selection no se ecominda si hay más de 10 predictores."
   ]
  },
  {
   "cell_type": "markdown",
   "id": "smooth-practice",
   "metadata": {},
   "source": [
    "### Modelo nulo"
   ]
  },
  {
   "cell_type": "code",
   "execution_count": 138,
   "id": "material-museum",
   "metadata": {},
   "outputs": [
    {
     "data": {
      "text/html": [
       "<table class=\"simpletable\">\n",
       "<caption>OLS Regression Results</caption>\n",
       "<tr>\n",
       "  <th>Dep. Variable:</th>          <td>Sales</td>      <th>  R-squared:         </th> <td>   0.000</td>\n",
       "</tr>\n",
       "<tr>\n",
       "  <th>Model:</th>                   <td>OLS</td>       <th>  Adj. R-squared:    </th> <td>   0.000</td>\n",
       "</tr>\n",
       "<tr>\n",
       "  <th>Method:</th>             <td>Least Squares</td>  <th>  F-statistic:       </th> <td>     nan</td>\n",
       "</tr>\n",
       "<tr>\n",
       "  <th>Date:</th>             <td>Tue, 06 Jul 2021</td> <th>  Prob (F-statistic):</th>  <td>   nan</td> \n",
       "</tr>\n",
       "<tr>\n",
       "  <th>Time:</th>                 <td>12:51:42</td>     <th>  Log-Likelihood:    </th> <td> -613.69</td>\n",
       "</tr>\n",
       "<tr>\n",
       "  <th>No. Observations:</th>      <td>   200</td>      <th>  AIC:               </th> <td>   1229.</td>\n",
       "</tr>\n",
       "<tr>\n",
       "  <th>Df Residuals:</th>          <td>   199</td>      <th>  BIC:               </th> <td>   1233.</td>\n",
       "</tr>\n",
       "<tr>\n",
       "  <th>Df Model:</th>              <td>     0</td>      <th>                     </th>     <td> </td>   \n",
       "</tr>\n",
       "<tr>\n",
       "  <th>Covariance Type:</th>      <td>nonrobust</td>    <th>                     </th>     <td> </td>   \n",
       "</tr>\n",
       "</table>\n",
       "<table class=\"simpletable\">\n",
       "<tr>\n",
       "      <td></td>         <th>coef</th>     <th>std err</th>      <th>t</th>      <th>P>|t|</th>  <th>[0.025</th>    <th>0.975]</th>  \n",
       "</tr>\n",
       "<tr>\n",
       "  <th>Intercept</th> <td>   14.0225</td> <td>    0.369</td> <td>   38.009</td> <td> 0.000</td> <td>   13.295</td> <td>   14.750</td>\n",
       "</tr>\n",
       "</table>\n",
       "<table class=\"simpletable\">\n",
       "<tr>\n",
       "  <th>Omnibus:</th>       <td> 7.344</td> <th>  Durbin-Watson:     </th> <td>   1.969</td>\n",
       "</tr>\n",
       "<tr>\n",
       "  <th>Prob(Omnibus):</th> <td> 0.025</td> <th>  Jarque-Bera (JB):  </th> <td>   6.985</td>\n",
       "</tr>\n",
       "<tr>\n",
       "  <th>Skew:</th>          <td> 0.405</td> <th>  Prob(JB):          </th> <td>  0.0304</td>\n",
       "</tr>\n",
       "<tr>\n",
       "  <th>Kurtosis:</th>      <td> 2.571</td> <th>  Cond. No.          </th> <td>    1.00</td>\n",
       "</tr>\n",
       "</table><br/><br/>Notes:<br/>[1] Standard Errors assume that the covariance matrix of the errors is correctly specified."
      ],
      "text/plain": [
       "<class 'statsmodels.iolib.summary.Summary'>\n",
       "\"\"\"\n",
       "                            OLS Regression Results                            \n",
       "==============================================================================\n",
       "Dep. Variable:                  Sales   R-squared:                       0.000\n",
       "Model:                            OLS   Adj. R-squared:                  0.000\n",
       "Method:                 Least Squares   F-statistic:                       nan\n",
       "Date:                Tue, 06 Jul 2021   Prob (F-statistic):                nan\n",
       "Time:                        12:51:42   Log-Likelihood:                -613.69\n",
       "No. Observations:                 200   AIC:                             1229.\n",
       "Df Residuals:                     199   BIC:                             1233.\n",
       "Df Model:                           0                                         \n",
       "Covariance Type:            nonrobust                                         \n",
       "==============================================================================\n",
       "                 coef    std err          t      P>|t|      [0.025      0.975]\n",
       "------------------------------------------------------------------------------\n",
       "Intercept     14.0225      0.369     38.009      0.000      13.295      14.750\n",
       "==============================================================================\n",
       "Omnibus:                        7.344   Durbin-Watson:                   1.969\n",
       "Prob(Omnibus):                  0.025   Jarque-Bera (JB):                6.985\n",
       "Skew:                           0.405   Prob(JB):                       0.0304\n",
       "Kurtosis:                       2.571   Cond. No.                         1.00\n",
       "==============================================================================\n",
       "\n",
       "Notes:\n",
       "[1] Standard Errors assume that the covariance matrix of the errors is correctly specified.\n",
       "\"\"\""
      ]
     },
     "execution_count": 138,
     "metadata": {},
     "output_type": "execute_result"
    }
   ],
   "source": []
  },
  {
   "cell_type": "markdown",
   "id": "adjusted-violence",
   "metadata": {},
   "source": [
    "### Forward stepwise selection\n",
    "\n",
    "Forward stepwise selection es una alternativa computacionalmente más eficiente que best subset selection, en la que no se evalúan todas las posibles combinaciones de predictores sino solo un subconjunto. El proceso se inicia generando el modelo nulo (M0) sin predictores. A continuación, se generan todos los posibles modelos que se pueden crear añadiendo un predictor al modelo nulo. De entre todos estos modelos con 1 predictor se selecciona el mejor basándose en el error de entrenamiento, al modelo elegido se denomina M1. Se repite el paso anterior, pero esta vez partiendo del último modelo seleccionado y así sucesivamente hasta llegar al modelo con todos los predictores. De entre los mejores modelos seleccionados para cada número de predictores (M0, M1, M2,…,Mk), se identifica el mejor, esta vez empleando una métrica de validación (validación cruzada, Cp, AIC, BIC o R2ajustado).\n",
    "\n",
    "Al crear modelos anidados, en los que el modelo k se construye a partir del modelo k−1, el método forward stepwise selection no garantiza que se seleccione el mejor modelo de entre todos los posibles, ya que no se evalúan todas las posibles combinaciones. Sin embargo, suele llegar a modelos óptimos consiguiendo un buen rendimiento computacional y evitando el overfitting. Otra ventaja añadida es que, forward stepwise selection puede emplearse incluso cuando el número de predictores es mayor que el de observaciones"
   ]
  },
  {
   "cell_type": "markdown",
   "id": "seeing-institution",
   "metadata": {},
   "source": [
    "Primero:  \n",
    "1. Todos los modelos con una sola variable. Uno gana. Ganador A\n",
    "2. Añade a este modelo todas las variables, una por una. Uno gana. Ganador B \n",
    "3. Añade a este modelo todas las variables, una por una. Uno gana. Ganador C\n",
    "...\n",
    "...\n",
    "\n",
    "FIN: tomar el ganador entre A, B, C, D...\n",
    "\n",
    "Si R2 tiene dos decimales iguales, consideramos el modelo con más variables representativas."
   ]
  },
  {
   "cell_type": "markdown",
   "id": "acting-province",
   "metadata": {},
   "source": [
    "## Problemas potenciales en la regresión lineal\n",
    "\n",
    "Los principales supuestos de un modelo lineal son:\n",
    "\n",
    "* Los datos son lineales \n",
    "* Los errores no están correlacionados\n",
    "* La varianza de los términos de error es constante\n",
    "\n",
    "¿Qué ocurre si no se cumplen estos supuestos? \n",
    "\n",
    "Además, nuestros modelos pueden sufrir otros problemas como:\n",
    "* Valores atípicos\n",
    "* Puntos de apalancamiento elevados\n",
    "* Colinealidad\n",
    "* Valores perdidos\n",
    "\n",
    "Ved este [vídeo](https://www.youtube.com/watch?v=hVe2F9krrWk) para una introducción al tema.     "
   ]
  },
  {
   "cell_type": "markdown",
   "id": "attached-invasion",
   "metadata": {},
   "source": [
    "Estos cuatro conjuntos de datos son distintos, pero resulta que tienen la misma media aritmética y varianza de los valores x e y, la misma correlación, el mismo coeficiente de correlación y la misma recta de regresión. algunos con 2 ó 3 decimales. Son el Cuarteto de Anscombe, llamado así por F.J. Anscombe, un matemático estadista que los publicó en 1973. Se suelen utilizara para enseñar que además de calcular las propiedades estadística de los datos, conviene visualizarlos.\n",
    "\n",
    "En todos los casos las representaciones nos dicen algo más sobre los datos: los primeros parecen un tanto aleatorios pero relacionados, los segundos muestran un patrón claro pero notablemente diferente; en el tercero y el cuarto hay otros patrones enturbiados por algunos valores anómalos. Estos valores pueden ser errores, datos reales que simplemente están fuera de lo normal o incluso datos producidos artificialmente para que todo encaje.\n",
    "\n",
    "Moraleja: no te fíes ciegamente de los datos y tampoco de las estadísticas que obtenga de ellos; procura montar además una visualización para entenderlos.\n",
    "![anscombe](../images/anscombe.png)"
   ]
  },
  {
   "cell_type": "markdown",
   "id": "rental-nancy",
   "metadata": {},
   "source": [
    "Echa un ojo a [Wikipedia](https://en.wikipedia.org/wiki/Anscombe%27s_quartet) que dice que:       \n",
    "El cuarteto de Anscombe consta de cuatro conjuntos de datos que tienen estadísticas descriptivas simples casi idénticas, pero que tienen distribuciones muy diferentes y aparecen de forma muy distinta cuando se grafican. Cada conjunto de datos consta de once puntos (x,y). Fueron construidos en 1973 por el estadístico Francis Anscombe para demostrar tanto la importancia de graficar los datos antes de analizarlos como el efecto de los valores atípicos y otras observaciones influyentes en las propiedades estadísticas. Describió el artículo como un intento de contrarrestar la impresión entre los estadísticos de que \"los cálculos numéricos son exactos, pero los gráficos son toscos\""
   ]
  },
  {
   "cell_type": "markdown",
   "id": "intimate-crime",
   "metadata": {},
   "source": [
    "## Resumen "
   ]
  },
  {
   "cell_type": "markdown",
   "id": "united-shuttle",
   "metadata": {},
   "source": [
    "- Cómo evaluar a partir de distintas métricas si nuestro modelo es bueno o malo (R2,RMSE,MSE,MAE)\n",
    "- P valor importante: nos ayuda a saber si las variables predictoras son significativas o no\n",
    "- Tener en cuenta posibles efectos multiplicadores sobre las variables (desafiamos la suposición aditiva, tenemos dominio de los datos)\n",
    "- R2 Ajustado siempre va a ser menor que el R2 porque resta por cada columna/variable\n",
    "- Variables categóricas - Las encodeamos con GET DUMMIES \n",
    "- Summary del OLS no solo vemos los coeficientes (intercept / coef de cada variable) si no también la importancia de esas variables, el R2 y otras pruebas estadísticas\n",
    "- Al final lo que queremos calcular cuando hacemos una regresión o nos enfrentamos a un problema de regresión lineal ya sea con una variable o multivariable es LA ECUACIÓN DE UNA RECTA por eso tendremos la ordenada en el origen y la pendiente, será una recta de N dimensiones si tengo N variables\n"
   ]
  },
  {
   "cell_type": "markdown",
   "id": "competitive-enough",
   "metadata": {},
   "source": [
    "## Further Materials \n",
    "\n",
    "* One example of [linear regression with the Boston data set](https://towardsdatascience.com/linear-regression-on-boston-housing-dataset-f409b7e4a155)"
   ]
  }
 ],
 "metadata": {
  "kernelspec": {
   "display_name": "ironhack",
   "language": "python",
   "name": "ironhack"
  },
  "language_info": {
   "codemirror_mode": {
    "name": "ipython",
    "version": 3
   },
   "file_extension": ".py",
   "mimetype": "text/x-python",
   "name": "python",
   "nbconvert_exporter": "python",
   "pygments_lexer": "ipython3",
   "version": "3.8.5"
  },
  "toc": {
   "base_numbering": 1,
   "nav_menu": {},
   "number_sections": true,
   "sideBar": true,
   "skip_h1_title": true,
   "title_cell": "Table of Contents",
   "title_sidebar": "Contents",
   "toc_cell": true,
   "toc_position": {
    "height": "calc(100% - 180px)",
    "left": "10px",
    "top": "150px",
    "width": "288px"
   },
   "toc_section_display": true,
   "toc_window_display": true
  }
 },
 "nbformat": 4,
 "nbformat_minor": 5
}
